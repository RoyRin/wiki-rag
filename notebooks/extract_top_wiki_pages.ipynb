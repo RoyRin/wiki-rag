{
 "cells": [
  {
   "cell_type": "markdown",
   "metadata": {},
   "source": [
    "# Extract top 1M pages\n",
    "From here: https://dumps.wikimedia.org/other/pageviews/2024/2024-12/\n"
   ]
  },
  {
   "cell_type": "code",
   "execution_count": 3,
   "metadata": {},
   "outputs": [],
   "source": [
    "from pathlib import Path\n",
    "import os \n",
    "from wiki_rag import wikipedia\n",
    "from importlib import reload\n",
    "reload(wikipedia)\n",
    "import pandas as pd\n"
   ]
  },
  {
   "cell_type": "code",
   "execution_count": null,
   "metadata": {},
   "outputs": [],
   "source": [
    "# Quick start: get top wikipages:\n",
    "\n",
    "# get english_df\n",
    "CWD = Path(os.getcwd())\n",
    "BASEDIR = CWD.parent\n",
    "asset_dir = BASEDIR / 'assets'\n",
    "output_f = asset_dir / 'english_pageviews.csv'\n",
    "stats_f = asset_dir / 'pageviews-20241201-000000'\n",
    "print(f\"loading english df from {output_f}\")\n",
    "english_df = wikipedia.get_sorted_english_df(output_f, stats_f) # output - where to output, stats_f base\n",
    "print(f\"loading wiki index from {title_to_file_path_f_pkl}\")\n",
    "title_to_file_path = wikipedia.get_title_to_path_index(json_dir, title_to_file_path_f_pkl)\n",
    "\n"
   ]
  },
  {
   "cell_type": "code",
   "execution_count": null,
   "metadata": {},
   "outputs": [
    {
     "name": "stdout",
     "output_type": "stream",
     "text": [
      "loaded from /n/home04/rrinberg/code/wiki-rag/assets/english_pageviews.csv\n"
     ]
    },
    {
     "data": {
      "text/plain": [
       "(1678755, 2)"
      ]
     },
     "execution_count": 4,
     "metadata": {},
     "output_type": "execute_result"
    }
   ],
   "source": [
    "CWD = Path(os.getcwd())\n",
    "BASEDIR = CWD.parent\n",
    "asset_dir = BASEDIR / 'assets'\n",
    "stats_f = asset_dir/ 'pageviews-20241201-000000'\n",
    "stats_f.exists()\n",
    "output_f = asset_dir / 'english_pageviews.csv'\n",
    "\n",
    "english_df = wikipedia.get_sorted_english_df(output_f, stats_f) # output - where to output, stats_f base\n",
    "english_df.shape\n",
    "\n"
   ]
  },
  {
   "cell_type": "markdown",
   "metadata": {},
   "source": [
    "## check the top 1M webapages against the wiki pages that are saved in the wikipedia"
   ]
  },
  {
   "cell_type": "code",
   "execution_count": 6,
   "metadata": {},
   "outputs": [
    {
     "name": "stdout",
     "output_type": "stream",
     "text": [
      "19103\n"
     ]
    }
   ],
   "source": [
    "# clean titles \n",
    "import json\n",
    "from importlib import reload \n",
    "reload(wikipedia)\n",
    "\n",
    "clean_title = wikipedia.clean_title \n",
    "\n",
    "\n",
    "# wiki titles from \n",
    "data_cache= Path(\"/n/netscratch/vadhan_lab/Lab/rrinberg/wikipedia\")\n",
    "\n",
    "json_dir = data_cache / 'json'\n",
    "# read line by line, extracting json from wiki_00\n",
    "import json\n",
    "wiki_titles = []\n",
    "\n",
    "title_to_file_path = {}\n",
    "# recursive glob in json_dir.glob('**/wiki_*')\n",
    "jsons_ = list(json_dir.glob('**/wiki_*'))\n",
    "print(len(jsons_))\n",
    "wiki_00 = json_dir / 'AA/wiki_00'\n",
    "\n",
    "title_to_file_path_f = asset_dir / 'title_to_file_path.json'\n",
    "title_to_file_path_f_pkl = asset_dir / 'title_to_file_path.pkl'\n",
    "\n",
    "from tqdm import tqdm \n",
    "\n",
    "\n",
    "title_to_file_path = wikipedia.get_title_to_path_index(json_dir, title_to_file_path_f_pkl)\n",
    "\n",
    "    "
   ]
  },
  {
   "cell_type": "markdown",
   "metadata": {},
   "source": [
    "## test get example page"
   ]
  },
  {
   "cell_type": "code",
   "execution_count": 9,
   "metadata": {},
   "outputs": [
    {
     "data": {
      "text/plain": [
       "{'id': '71794564',\n",
       " 'revid': '7471087',\n",
       " 'url': 'https://en.wikipedia.org/wiki?curid=71794564',\n",
       " 'title': 'Survivor Series WarGames',\n",
       " 'text': ''}"
      ]
     },
     "execution_count": 9,
     "metadata": {},
     "output_type": "execute_result"
    }
   ],
   "source": [
    "example_page = wikipedia.get_wiki_page(\"survivorserieswargames\", title_to_file_path)\n",
    "example_page"
   ]
  },
  {
   "cell_type": "code",
   "execution_count": 10,
   "metadata": {},
   "outputs": [
    {
     "name": "stdout",
     "output_type": "stream",
     "text": [
      "accessiblecomputing ('/n/netscratch/vadhan_lab/Lab/rrinberg/wikipedia/json/AK/wiki_42', 98)\n",
      "anarchism ('/n/netscratch/vadhan_lab/Lab/rrinberg/wikipedia/json/AA/wiki_00', 2)\n",
      "afghanistanhistory ('/n/netscratch/vadhan_lab/Lab/rrinberg/wikipedia/json/EQ/wiki_10', 190)\n",
      "afghanistangeography ('/n/netscratch/vadhan_lab/Lab/rrinberg/wikipedia/json/AA/wiki_00', 4)\n",
      "afghanistanpeople ('/n/netscratch/vadhan_lab/Lab/rrinberg/wikipedia/json/AA/wiki_00', 5)\n",
      "afghanistancommunications ('/n/netscratch/vadhan_lab/Lab/rrinberg/wikipedia/json/AA/wiki_00', 6)\n",
      "afghanistantransportations ('/n/netscratch/vadhan_lab/Lab/rrinberg/wikipedia/json/AA/wiki_00', 7)\n",
      "afghanistanmilitary ('/n/netscratch/vadhan_lab/Lab/rrinberg/wikipedia/json/AA/wiki_00', 8)\n",
      "afghanistantransnationalissues ('/n/netscratch/vadhan_lab/Lab/rrinberg/wikipedia/json/AA/wiki_00', 9)\n",
      "assistivetechnology ('/n/netscratch/vadhan_lab/Lab/rrinberg/wikipedia/json/AL/wiki_62', 94)\n",
      "amoeboidtaxa ('/n/netscratch/vadhan_lab/Lab/rrinberg/wikipedia/json/AA/wiki_00', 11)\n"
     ]
    }
   ],
   "source": [
    "c = 0\n",
    "for k,v in title_to_file_path.items():\n",
    "    print(k, v)\n",
    "    c+=1\n",
    "    if c>10:\n",
    "        break"
   ]
  },
  {
   "cell_type": "code",
   "execution_count": 12,
   "metadata": {},
   "outputs": [
    {
     "name": "stdout",
     "output_type": "stream",
     "text": [
      "Special:Search\n",
      "new title specialsearch\n",
      "Page not found for title: specialsearch\n",
      "Main Page\n",
      "new title mainpage\n",
      "Title: MAINPAGE\n",
      "URL: https://en.wikipedia.org/wiki?curid=43620591\n",
      "Views: 175514\n",
      "\n",
      "Survivor Series: WarGames (2024)\n",
      "new title survivorserieswargames\n",
      "Title: Survivor Series WarGames\n",
      "URL: https://en.wikipedia.org/wiki?curid=71794564\n",
      "Views: 36908\n",
      "\n",
      "Wikipedia:Featured pictures\n",
      "new title wikipediafeaturedpictures\n",
      "Page not found for title: wikipediafeaturedpictures\n",
      "Wicked (2024 film)\n",
      "new title wicked(2024film)\n",
      "Title: Wicked (2024 film)\n",
      "URL: https://en.wikipedia.org/wiki?curid=60455274\n",
      "Views: 17021\n",
      "\n",
      "Wicked (musical)\n",
      "new title wicked(musical)\n",
      "Title: Wicked (musical)\n",
      "URL: https://en.wikipedia.org/wiki?curid=1678965\n",
      "Views: 14723\n",
      "\n",
      "Bob Bryar\n",
      "new title bobbryar\n",
      "Title: Bob Bryar\n",
      "URL: https://en.wikipedia.org/wiki?curid=50782727\n",
      "Views: 13799\n",
      "\n",
      "Moana 2\n",
      "new title moana2\n",
      "Title: Moana 2\n",
      "URL: https://en.wikipedia.org/wiki?curid=65419058\n",
      "Views: 11342\n",
      "\n",
      "Charles Kushner\n",
      "new title charleskushner\n",
      "Title: Charles Kushner\n",
      "URL: https://en.wikipedia.org/wiki?curid=913005\n",
      "Views: 11295\n",
      "\n",
      "Gladiator II\n",
      "new title gladiatorii\n",
      "Title: Gladiator II\n",
      "URL: https://en.wikipedia.org/wiki?curid=72682130\n",
      "Views: 11059\n",
      "\n",
      "-\n",
      "new title \n",
      "Title: ----\n",
      "URL: https://en.wikipedia.org/wiki?curid=70703744\n",
      "Views: 10249\n",
      "\n",
      "Sunny Edwards\n",
      "new title sunnyedwards\n",
      "Title: Sunny Edwards\n",
      "URL: https://en.wikipedia.org/wiki?curid=62371618\n",
      "Views: 9137\n",
      "\n"
     ]
    }
   ],
   "source": [
    "import re\n",
    "clean_title = wikipedia.clean_title\n",
    "for i, row in english_df.iterrows():\n",
    "    \n",
    "    title = row['page_title']\n",
    "    print(title)\n",
    "    title = clean_title(title)\n",
    "    print(f\"new title {title}\")\n",
    "    if False:\n",
    "        date_clean_title = re.sub(r'\\s*\\(\\d{4}\\)', '', title) # remove date at the end\n",
    "        print(f\"date_clean_title: '{date_clean_title}'\")\n",
    "        page = get_wiki_page(title, title_to_file_path)\n",
    "    \n",
    "    page = wikipedia.get_wiki_page(title, title_to_file_path)\n",
    "            \n",
    "    if page is not None:\n",
    "        print(f\"Title: {page['title']}\")\n",
    "        print(f\"URL: {page['url']}\")\n",
    "        print(f\"Views: {row['views']}\")\n",
    "        print()\n",
    "    else:\n",
    "        print(f\"Page not found for title: {title}\")\n",
    "    if i > 10:\n",
    "        break"
   ]
  },
  {
   "cell_type": "markdown",
   "metadata": {},
   "source": [
    "# Extract the top 1M posts for the RAG, that are have wiki facts about them\n"
   ]
  },
  {
   "cell_type": "code",
   "execution_count": 15,
   "metadata": {},
   "outputs": [
    {
     "name": "stderr",
     "output_type": "stream",
     "text": [
      "10001it [00:06, 1533.17it/s]"
     ]
    },
    {
     "name": "stdout",
     "output_type": "stream",
     "text": [
      "5892 pages found; out of 10001\n"
     ]
    },
    {
     "name": "stderr",
     "output_type": "stream",
     "text": [
      "\n"
     ]
    }
   ],
   "source": [
    "counts = 0\n",
    "for i, row in tqdm(english_df.iterrows()):\n",
    "    title = clean_title(row['page_title'])\n",
    "    data = wikipedia.get_wiki_page(title, title_to_file_path)\n",
    "    if data is None:\n",
    "        continue\n",
    "    text = data.get('text', \"\")\n",
    "    if len(text) < 100:\n",
    "        continue\n",
    "    if data is not None:\n",
    "        counts += 1\n",
    "    if i > 10_000:\n",
    "        break \n",
    "print(f\"{counts} pages found; out of {i}\")"
   ]
  },
  {
   "cell_type": "code",
   "execution_count": null,
   "metadata": {},
   "outputs": [
    {
     "name": "stdout",
     "output_type": "stream",
     "text": [
      "loaded from /n/home04/rrinberg/code/wiki-rag/assets/english_pageviews.csv\n"
     ]
    }
   ],
   "source": []
  },
  {
   "cell_type": "code",
   "execution_count": null,
   "metadata": {},
   "outputs": [
    {
     "data": {
      "text/plain": [
       "{'id': '60457775',\n",
       " 'revid': '48633785',\n",
       " 'url': 'https://en.wikipedia.org/wiki?curid=60457775',\n",
       " 'title': 'Sing 2',\n",
       " 'text': 'Sing 2 is a 2021 American animated jukebox musical comedy film produced by Universal Pictures and Illumination, and distributed by Universal. The sequel to \"Sing\" (2016), it was written and directed by Garth Jennings, co-directed by Christophe Lourdelet, and produced by Chris Meledandri and Janet Healy. The story follows Buster Moon and his group putting on a show in Redshore City while working to impress an entertainment mogul and enlist a reclusive rock star to perform with the group.\\nThe film stars an ensemble voice cast consisting of Matthew McConaughey, Reese Witherspoon, Scarlett Johansson, Taron Egerton, Tori Kelly, Nick Kroll, Jennings, Peter Serafinowicz, Jennifer Saunders, and Nick Offerman, reprising their roles from the first film. The sequel also features new characters voiced by Bobby Cannavale, Bono, Halsey, Pharrell Williams, Chelsea Peretti, Letitia Wright, and Eric André. Like the first film, \"Sing 2\" features songs from many artists, most of which are performed diegetically.\\n\"Sing 2\" made its world premiere at the AFI Fest on November 14, 2021, and was theatrically released in the United States on December 22, 2021. The film was met with generally positive reviews and grossed over $408\\xa0million worldwide against a production budget of $85\\xa0million, becoming the highest-grossing animated film of 2021 and the tenth-highest-grossing film of 2021. A sequel is in development.\\nPlot.\\nBuster Moon is thriving with his newly rebuilt theater; Johnny, Meena, Rosita, Gunter, and Miss Crawly work as his cast and crew, while Ash performs as a soloist at Rick\\'s rock club. Buster\\'s show fails to impress Crystal Entertainment\\'s talent scout dog Suki Lane, who tells Buster he would not make it in Redshore City. Encouraged by Nana Noodleman, Buster rounds up his crew and they travel to the city to make an impression.\\nThey are denied entry into Crystal Entertainment but sneak in for an audition with entertainment mogul wolf Jimmy Crystal. As Jimmy is uninterested in Buster\\'s original show pitch, Gunter suggests a space-themed sci-fi musical called \"Out of This World\" that features songs from Clay Calloway, a legendary rock star lion who disappeared after his wife Ruby died 15 years prior. Intrigued, and assuming that Clay will be a part of the show, Jimmy greenlights it and lets Buster and his friends stay at his hotel during production.\\nMiss Crawly finds where Clay lives and goes to visit him, but he scares her away with a paintball gun. During rehearsal, Rosita reveals to have a fear of heights after discovering she needs to make a high jump, prompting Jimmy to insist Buster have his daughter Porsha play her part instead. Buster reluctantly writes Rosita a minor role. Top choreographer monkey Klaus Kickenklober is hired to teach Johnny to dance, but is unnecessarily harsh, causing Johnny to struggle and fall behind. Johnny later comes across a street dancer lynx named Nooshy, who takes over as his teacher. Meena is cast in a romantic scene with Darius, an egocentric actor yak, but is unable to act the part convincingly, having never been in love before. She later meets and falls in love with an ice cream vendor elephant named Alfonso. Jimmy eventually discovers that Buster never contacted Clay about the show and threatens to harm Buster if he does not deliver.\\nAsh and Buster visit Clay to convince him to be in the show. He refuses at first, finding it too emotionally painful to perform after his wife\\'s death, but Ash changes his mind. Back at the theater, Buster offers Porsha to switch roles with Rosita, as Porsha\\'s acting skills are poor. Porsha misunderstands about Buster firing her and sadly leaves the set. After news of the \"firing\" is broadcast on television, an outraged Jimmy nearly drops Buster off the roof of the hotel, before locking him in a closet. Suki frees Buster and warns him to get out of Redshore City before Jimmy can kill him. Ash arrives at the hotel room with the crew and Clay, who advises Buster not to run and hide as he did. After overhearing Jimmy insulting him and his crew on television, Buster decides to put on the show that night behind Jimmy\\'s back. Porsha rejoins the show, Johnny summons his father\\'s gang who are now released from prison on community service to keep Jimmy and his bodyguards at bay, and Rosita arranges for her husband Norman and their 25 children to distract hotel security.\\nDuring the show, a jealous Klaus takes the place of Johnny\\'s performance partner to undermine his number, but Johnny defeats Klaus with encouragement from Nooshy and the other dancers, finally earning Klaus\\' respect. Porsha performs a high-energy song and dance number in the minor role originally given to Rosita, standing up to her enraged father. Meena visualizes Darius as Alfonso and successfully performs a romantic duet with him. Making a final attempt to stop the show, Jimmy drops Buster from a catwalk, which forces Rosita to overcome her phobia and make the jump to rescue Buster. When the time comes for Clay to take the stage, he claims not ready yet. Ash leads the crowd in a rendition of one of Clay\\'s songs, giving him the courage to perform. After the curtain call, Jimmy tries to take credit for the successful show; however, Suki has him arrested.\\nSometime later, Buster and the crew set out to return to Calatonia, with Nooshy, Porsha, and Clay joining them. Suki stops them, and tells them that the Majestic, a major theater, wants to put on the show. As the crew performs, Buster watches from the VIP section.\\nVoice cast.\\nIn addition, Julia Davis voices Linda le Bon, a horse and host of \"Hot News\", while Spike Jonze has an uncredited voice role as Jerry, a cat who is Jimmy\\'s personal assistant.\\nAmongst the voices of Rosita and Norman\\'s piglets is Matthew McConaughey\\'s daughter, Vida Alves, who voices the piglet that goes splashing in chocolate. Director Jennings\\' wife, Louise, voices a dog worker making Meena\\'s costume for the show, while the couple\\'s four children, Asa, Caspar, Leo and Oscar, are among the piglet voices.\\nAs with the first film, Jennings\\' filmmaker friends Wes Anderson, Chris Renaud, and Edgar Wright all have cameos in the film, with Anderson as a tarsier night cleaner, Renaud as Linda Le Bon\\'s show announcer, and Wright voicing a dog cop and a pig chauffeur. Scott Mosier, director of \"The Grinch\" and the short film \"Eddie\\'s Life Coach\", voices Mason, a walrus worker making the sets for the show.\\nProduction.\\nOn January 25, 2017, Universal Pictures and Illumination announced a sequel to its 2016 animated film \"Sing\" was in development. Writer/director Garth Jennings and producers Chris Meledandri and Janet Healy return along with voiceover stars Matthew McConaughey, Reese Witherspoon, Scarlett Johansson, Nick Kroll, Taron Egerton and Tori Kelly.\\nIn December 2020, Bobby Cannavale, Letitia Wright, Eric André, Chelsea Peretti, longtime Illumination collaborator Pharrell Williams, Bono and Halsey were added to the voice cast. Work on the film shifted due to the COVID-19 pandemic, and was done remotely following the temporary closure of Illumination Mac Guff (now renamed as Illumination Studios Paris).\\nThe scope of the theatre in the finale was a major stepping stone to take over 10,000 animals for the crowd department, old and new ones designed by longtime Illumination artist Eric Guillon who worked on \"Sing\" and designed the new characters in the sequel like choreographer Klaus and the tarsiers. Fashion brand Rodarte designed some of the costumes used in the film.\\nMusic.\\nIn December 2020, Joby Talbot returned to compose the score. U2 performed the film\\'s original song \"Your Song Saved My Life\". The song was released on November 3, 2021. Additional music includes songs by Kiana Ledé, Sam i, Billie Eilish, Elton John and more. The film\\'s soundtrack was released on December 17, 2021.\\nRelease.\\nTheatrical and home media.\\n\"Sing 2\" had its world premiere, opening the AFI Fest Celebration on November 14, 2021, and was theatrically released in the United States on December 22, 2021, in RealD 3D, due to the COVID-19 pandemic, after previously being scheduled to be released in the United States on December 25, 2020, and July 2, 2021. Early access screenings occurred in the United States on November 27, 2021. The film was released to video on January 7, 2022, on platforms such as Amazon Prime Video, Apple TV, Vudu, Xfinity, and YouTube. It was released on Blu-ray, DVD, and Ultra HD Blu-ray on March 29, 2022, by Universal Pictures Home Entertainment.\\nMarketing.\\nTomy made a deal with Illumination and Universal to develop the \"Sing 2\" toy line, featuring plush toys, collectible figures, and a role-playing game. An \"Adopt Me!\" live event was released on Roblox by Uplift Games in partnership with Illumination to promote this film. The film also has many promotional partners including Xfinity, McDonald\\'s, Kellogg\\'s, and Mercari. By its opening weekend in the United States and Canada, the film had made 393.1\\xa0million impressions across all social media platforms, a statistic 24% above those of a film released before the COVID-19 pandemic. Overall, the film had a better social media reach than 2021\\'s \"Encanto\", \"The Addams Family 2\", \"Tom &amp; Jerry\", \"Spirit Untamed\", and \"\".\\nReception.\\nBox office.\\n\"Sing 2\" grossed $162.8million in the United States and Canada, and $245.6million in other territories, for a worldwide total of $408.4\\xa0million.\\nIn the United States and Canada, the film earned $1.6\\xa0million from sneak previews held on November 27, 2021. The film had its wide release the following month on Wednesday, December 22, alongside \"The King\\'s Man\" and \"The Matrix Resurrections\", and was projected to gross $40–50\\xa0million from 3,892 theaters over its first five days of release. The film ended up grossing $22.3\\xa0million in its opening weekend (and a total of $41\\xa0million over the five-day frame) from an estimated 4.1\\xa0million theater admissions, placing second at the box office behind \"\". Women made up 58% of the audience during its opening, with those below the age of 25 comprising 56% of ticket sales and those below 17 comprising 44%. The ethnic breakdown of the audience showed that 39% were Hispanic and Latino Americans, 35% European Americans, 15% African American, and 7% Asian or other. In its second weekend, the film remained in second place with $20.2\\xa0million. \"Sing 2\" once again retained second place at the box office in its third weekend with $11.6\\xa0million. On January 8, 2022, \"Sing 2\" became the first animated film of the COVID-19 pandemic to cross $100\\xa0million at the U.S. and Canadian box office as well as the first film since \"Frozen II\" (2019) to reach this milestone. It remained atop the box office top ten until its fifteenth weekend.\\nOutside the United States and Canada, \"Sing 2\" opened in several international markets on December 3, 2021. The film made $1.12\\xa0million in its first weekend, $1.5\\xa0million in its second, and another $1.5\\xa0million from 16 markets in its third. After screening in an additional 22 markets, \"Sing 2\" earned $19.2\\xa0million in its fourth weekend and had the biggest opening for an animated film during the COVID-19 pandemic in both France ($6\\xa0million) and Mexico ($3.6\\xa0million). The film made $17.2\\xa0million in its fifth weekend, which included a $1.2\\xa0million opening in Ukraine, $17.1\\xa0million in its sixth weekend, and $8.4\\xa0million in its seventh weekend. In its eighth weekend, the film had strong openings in Germany ($3\\xa0million), Poland ($2.4\\xa0million), and Austria ($500,000). In its ninth weekend, the film earned $17.4\\xa0million from 62 markets, which included a $9.3\\xa0million opening in the U.K. In its tenth weekend, the film earned $14\\xa0million from 63 markets, which included a $1.1\\xa0million debut in the country of Denmark where pandemic restrictions had recently been lifted. The film crossed the $300\\xa0million mark worldwide in its eleventh weekend after adding $11\\xa0million to its total, which included a $2.2\\xa0million debut in the Netherlands. The film\\'s gross remained consistent in its twelfth weekend with $10.3\\xa0million that included a 1% drop in the U.K. \"Sing 2\" crossed the $200\\xa0million mark outside the U.S. and Canada in its thirteenth weekend. By March 6, the film had surpassed the original film\\'s gross in the U.K. with $40.5\\xa0million. In its fifteenth weekend, the film added $3\\xa0million to its total gross and the \"Sing\" franchise as a whole passed the $1\\xa0billion mark. The film made $6.1\\xa0million in its sixteenth weekend, which included a $4.3\\xa0million opening in Japan. It added $3.6\\xa0million in its seventeenth weekend. The film crossed the $400\\xa0million mark worldwide with the addition of $1.9\\xa0million in its nineteenth weekend. It is the first film since \"Frozen II\", the first animated film during the pandemic, and the ninth Illumination title to reach the milestone. It made $1.2\\xa0million the following weekend.\\nCritical response.\\nOn review aggregator Rotten Tomatoes, the film has an approval rating of based on reviews, and an average rating of . The site\\'s critical consensus reads, \"Second verse, same as the first: For audiences that enjoyed the first installment, \"Sing 2\" should prove another endearing diversion.\" On Metacritic, the film has a weighted average score of 49 out of 100 based on 28 critics, indicating \"mixed or average reviews\". Audiences polled by CinemaScore gave the film a rare average grade of \"A+\" on an A+ to F scale (the first Illumination film to receive this grade), while PostTrak reported 91% of audience members gave it a positive score, with 78% saying they would definitely recommend it.\\nJustin Lowe, writing for \"The Hollywood Reporter\", praised the musical set of the film, calling the \"ragtag cast that Buster had brought for an amateur cast, had blossomed into a full-fledged company of professional performers\". Peter Debruge, of \"Variety\", also gave a positive review, saying the film is \"an elaborate machinery of joy, and it\\'s easier to appreciate how every choice seems designed to put a smile on people\\'s faces\".\\nHowever, a few reviewers were disappointed by the film. Emily Clark of \"Plugged In\" praised the film\\'s inspiring and emotional elements, but took issue with the fact that Meena \"clearly tells Buster she\\'s not OK kissing someone on stage, and he sort of dismisses her...The whole affair made me a bit queasy thinking about how many a young starlet has received her first smooch from a total stranger at the behest of adult directors and producers.\" Mark Kermode, who had given the first film a positive review, stated that \"Sing 2\" overused its flashier technical effects and lacked the \"homemade charm\" that characterized the first film.\\nSequel.\\nIn April 2023, Meledandri confirmed a third \"Sing\" film is in development.'}"
      ]
     },
     "execution_count": 78,
     "metadata": {},
     "output_type": "execute_result"
    }
   ],
   "source": [
    "raise "
   ]
  },
  {
   "cell_type": "markdown",
   "metadata": {},
   "source": [
    "# Now make the RAG for Wikipedia only take the top pages here [mock out]"
   ]
  },
  {
   "cell_type": "code",
   "execution_count": null,
   "metadata": {},
   "outputs": [
    {
     "name": "stderr",
     "output_type": "stream",
     "text": [
      "22it [00:00, 329.59it/s]"
     ]
    },
    {
     "name": "stdout",
     "output_type": "stream",
     "text": [
      "Special:Search\n",
      "Special:Search\n",
      "Main Page\n",
      "Main Page\n",
      "Survivor Series: WarGames (2024)\n",
      "Survivor Series: WarGames (2024)\n",
      "Wikipedia:Featured pictures\n",
      "Wikipedia:Featured pictures\n",
      "Wicked (2024 film)\n",
      "Wicked (2024 film)\n",
      "Wicked (musical)\n",
      "Wicked (musical)\n",
      "Bob Bryar\n",
      "Bob Bryar\n",
      "Moana 2\n",
      "Moana 2\n",
      "Charles Kushner\n",
      "Charles Kushner\n",
      "Gladiator II\n",
      "Gladiator II\n",
      "-\n",
      "-\n",
      "Sunny Edwards\n",
      "Sunny Edwards\n",
      "Hailee Steinfeld\n",
      "Hailee Steinfeld\n",
      "Cynthia Erivo\n",
      "Cynthia Erivo\n",
      "Ariana Grande\n",
      "Ariana Grande\n",
      "Syrian civil war\n",
      "Syrian civil war\n",
      "BRICS\n",
      "BRICS\n",
      "Ryan Day (American football)\n",
      "Ryan Day (American football)\n",
      "Northwestern Syria offensive (2024)\n",
      "Northwestern Syria offensive (2024)\n",
      "Michigan–Ohio State football rivalry\n",
      "Michigan–Ohio State football rivalry\n",
      "Deaths in 2024\n",
      "Deaths in 2024\n",
      "2024 Irish general election\n",
      "2024 Irish general election\n"
     ]
    },
    {
     "name": "stderr",
     "output_type": "stream",
     "text": [
      "\n"
     ]
    }
   ],
   "source": [
    "counts = 0 \n",
    "for i, row in tqdm(english_df.iterrows()):\n",
    "    #print(f\"Processing article {counts}: {d['title']}\")\n",
    "    if counts > int(10):\n",
    "        break\n",
    "    title = row['page_title']\n",
    "    print(title)\n",
    "    clean_title_ = clean_title(title)\n",
    "    print(title)\n",
    "    data = get_wiki_page(clean_title_, title_to_file_path)\n",
    "    if data is None:\n",
    "        continue\n",
    "    title = data['title']\n",
    "    url = data['url']\n",
    "    text = data['text']\n",
    "    id_ = data.get('id')\n",
    "    if len(text) < 100:\n",
    "        continue\n",
    "    counts +=1\n",
    "    \n",
    "    if counts % 25 == 0:\n",
    "        print(f\"Processed {counts} articles so far...\")\n",
    "    \n",
    "    text = text.strip()\n",
    "    # abstract is first 3 par\n",
    "    abstract = \"\\n\".join(text.split(\"\\n\")[:3])\n",
    "    \n",
    "    if False: \n",
    "        doc = Document(page_content=abstract, metadata={\"title\": title, \n",
    "                                                   \"url\": url,\n",
    "                                                   \"id\": id_})\n",
    "        \n",
    "        if vectorstore is None:\n",
    "            vectorstore = FAISS.from_documents([doc], embeddings)\n",
    "        else:\n",
    "            vectorstore.add_documents([doc])"
   ]
  },
  {
   "cell_type": "code",
   "execution_count": null,
   "metadata": {},
   "outputs": [],
   "source": []
  }
 ],
 "metadata": {
  "kernelspec": {
   "display_name": "Python 3",
   "language": "python",
   "name": "python3"
  },
  "language_info": {
   "codemirror_mode": {
    "name": "ipython",
    "version": 3
   },
   "file_extension": ".py",
   "mimetype": "text/x-python",
   "name": "python",
   "nbconvert_exporter": "python",
   "pygments_lexer": "ipython3",
   "version": "3.10.13"
  }
 },
 "nbformat": 4,
 "nbformat_minor": 2
}

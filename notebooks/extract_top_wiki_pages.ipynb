{
 "cells": [
  {
   "cell_type": "markdown",
   "metadata": {},
   "source": [
    "# Extract top 1M pages\n",
    "From here: https://dumps.wikimedia.org/other/pageviews/2024/2024-12/\n"
   ]
  },
  {
   "cell_type": "code",
   "execution_count": 3,
   "metadata": {},
   "outputs": [],
   "source": [
    "from pathlib import Path\n",
    "import os \n",
    "from wiki_rag import wikipedia\n",
    "from importlib import reload\n",
    "reload(wikipedia)\n",
    "import pandas as pd\n"
   ]
  },
  {
   "cell_type": "code",
   "execution_count": null,
   "metadata": {},
   "outputs": [],
   "source": [
    "# Quick start: get top wikipages:\n",
    "\n",
    "# get english_df\n",
    "CWD = Path(os.getcwd())\n",
    "BASEDIR = CWD.parent\n",
    "asset_dir = BASEDIR / 'assets'\n",
    "output_f = asset_dir / 'english_pageviews.csv'\n",
    "stats_f = asset_dir / 'pageviews-20241201-000000'\n",
    "print(f\"loading english df from {output_f}\")\n",
    "english_df = wikipedia.get_sorted_english_df(output_f, stats_f) # output - where to output, stats_f base\n",
    "print(f\"loading wiki index from {title_to_file_path_f_pkl}\")\n",
    "title_to_file_path = wikipedia.get_title_to_path_index(json_dir, title_to_file_path_f_pkl)\n",
    "\n"
   ]
  },
  {
   "cell_type": "code",
   "execution_count": null,
   "metadata": {},
   "outputs": [
    {
     "name": "stdout",
     "output_type": "stream",
     "text": [
      "loaded from /n/home04/rrinberg/code/wiki-rag/assets/english_pageviews.csv\n"
     ]
    },
    {
     "data": {
      "text/plain": [
       "(1678755, 2)"
      ]
     },
     "execution_count": 4,
     "metadata": {},
     "output_type": "execute_result"
    }
   ],
   "source": [
    "CWD = Path(os.getcwd())\n",
    "BASEDIR = CWD.parent\n",
    "asset_dir = BASEDIR / 'assets'\n",
    "stats_f = asset_dir/ 'pageviews-20241201-000000'\n",
    "stats_f.exists()\n",
    "output_f = asset_dir / 'english_pageviews.csv'\n",
    "\n",
    "english_df = wikipedia.get_sorted_english_df(output_f, stats_f) # output - where to output, stats_f base\n",
    "english_df.shape\n",
    "\n"
   ]
  },
  {
   "cell_type": "markdown",
   "metadata": {},
   "source": [
    "## check the top 1M webapages against the wiki pages that are saved in the wikipedia"
   ]
  },
  {
   "cell_type": "code",
   "execution_count": 6,
   "metadata": {},
   "outputs": [
    {
     "name": "stdout",
     "output_type": "stream",
     "text": [
      "19103\n"
     ]
    }
   ],
   "source": [
    "# clean titles \n",
    "import json\n",
    "from importlib import reload \n",
    "reload(wikipedia)\n",
    "\n",
    "clean_title = wikipedia.clean_title \n",
    "\n",
    "\n",
    "# wiki titles from \n",
    "data_cache= Path(\"/n/netscratch/vadhan_lab/Lab/rrinberg/wikipedia\")\n",
    "\n",
    "json_dir = data_cache / 'json'\n",
    "# read line by line, extracting json from wiki_00\n",
    "import json\n",
    "wiki_titles = []\n",
    "\n",
    "title_to_file_path = {}\n",
    "# recursive glob in json_dir.glob('**/wiki_*')\n",
    "jsons_ = list(json_dir.glob('**/wiki_*'))\n",
    "print(len(jsons_))\n",
    "wiki_00 = json_dir / 'AA/wiki_00'\n",
    "\n",
    "title_to_file_path_f = asset_dir / 'title_to_file_path.json'\n",
    "title_to_file_path_f_pkl = asset_dir / 'title_to_file_path.pkl'\n",
    "\n",
    "from tqdm import tqdm \n",
    "\n",
    "\n",
    "title_to_file_path = wikipedia.get_title_to_path_index(json_dir, title_to_file_path_f_pkl)\n",
    "\n",
    "    "
   ]
  },
  {
   "cell_type": "markdown",
   "metadata": {},
   "source": [
    "## test get example page"
   ]
  },
  {
   "cell_type": "code",
   "execution_count": 9,
   "metadata": {},
   "outputs": [
    {
     "data": {
      "text/plain": [
       "{'id': '71794564',\n",
       " 'revid': '7471087',\n",
       " 'url': 'https://en.wikipedia.org/wiki?curid=71794564',\n",
       " 'title': 'Survivor Series WarGames',\n",
       " 'text': ''}"
      ]
     },
     "execution_count": 9,
     "metadata": {},
     "output_type": "execute_result"
    }
   ],
   "source": [
    "example_page = wikipedia.get_wiki_page(\"survivorserieswargames\", title_to_file_path)\n",
    "example_page"
   ]
  },
  {
   "cell_type": "code",
   "execution_count": 10,
   "metadata": {},
   "outputs": [
    {
     "name": "stdout",
     "output_type": "stream",
     "text": [
      "accessiblecomputing ('/n/netscratch/vadhan_lab/Lab/rrinberg/wikipedia/json/AK/wiki_42', 98)\n",
      "anarchism ('/n/netscratch/vadhan_lab/Lab/rrinberg/wikipedia/json/AA/wiki_00', 2)\n",
      "afghanistanhistory ('/n/netscratch/vadhan_lab/Lab/rrinberg/wikipedia/json/EQ/wiki_10', 190)\n",
      "afghanistangeography ('/n/netscratch/vadhan_lab/Lab/rrinberg/wikipedia/json/AA/wiki_00', 4)\n",
      "afghanistanpeople ('/n/netscratch/vadhan_lab/Lab/rrinberg/wikipedia/json/AA/wiki_00', 5)\n",
      "afghanistancommunications ('/n/netscratch/vadhan_lab/Lab/rrinberg/wikipedia/json/AA/wiki_00', 6)\n",
      "afghanistantransportations ('/n/netscratch/vadhan_lab/Lab/rrinberg/wikipedia/json/AA/wiki_00', 7)\n",
      "afghanistanmilitary ('/n/netscratch/vadhan_lab/Lab/rrinberg/wikipedia/json/AA/wiki_00', 8)\n",
      "afghanistantransnationalissues ('/n/netscratch/vadhan_lab/Lab/rrinberg/wikipedia/json/AA/wiki_00', 9)\n",
      "assistivetechnology ('/n/netscratch/vadhan_lab/Lab/rrinberg/wikipedia/json/AL/wiki_62', 94)\n",
      "amoeboidtaxa ('/n/netscratch/vadhan_lab/Lab/rrinberg/wikipedia/json/AA/wiki_00', 11)\n"
     ]
    }
   ],
   "source": [
    "c = 0\n",
    "for k,v in title_to_file_path.items():\n",
    "    print(k, v)\n",
    "    c+=1\n",
    "    if c>10:\n",
    "        break"
   ]
  },
  {
   "cell_type": "code",
   "execution_count": 12,
   "metadata": {},
   "outputs": [
    {
     "name": "stdout",
     "output_type": "stream",
     "text": [
      "Special:Search\n",
      "new title specialsearch\n",
      "Page not found for title: specialsearch\n",
      "Main Page\n",
      "new title mainpage\n",
      "Title: MAINPAGE\n",
      "URL: https://en.wikipedia.org/wiki?curid=43620591\n",
      "Views: 175514\n",
      "\n",
      "Survivor Series: WarGames (2024)\n",
      "new title survivorserieswargames\n",
      "Title: Survivor Series WarGames\n",
      "URL: https://en.wikipedia.org/wiki?curid=71794564\n",
      "Views: 36908\n",
      "\n",
      "Wikipedia:Featured pictures\n",
      "new title wikipediafeaturedpictures\n",
      "Page not found for title: wikipediafeaturedpictures\n",
      "Wicked (2024 film)\n",
      "new title wicked(2024film)\n",
      "Title: Wicked (2024 film)\n",
      "URL: https://en.wikipedia.org/wiki?curid=60455274\n",
      "Views: 17021\n",
      "\n",
      "Wicked (musical)\n",
      "new title wicked(musical)\n",
      "Title: Wicked (musical)\n",
      "URL: https://en.wikipedia.org/wiki?curid=1678965\n",
      "Views: 14723\n",
      "\n",
      "Bob Bryar\n",
      "new title bobbryar\n",
      "Title: Bob Bryar\n",
      "URL: https://en.wikipedia.org/wiki?curid=50782727\n",
      "Views: 13799\n",
      "\n",
      "Moana 2\n",
      "new title moana2\n",
      "Title: Moana 2\n",
      "URL: https://en.wikipedia.org/wiki?curid=65419058\n",
      "Views: 11342\n",
      "\n",
      "Charles Kushner\n",
      "new title charleskushner\n",
      "Title: Charles Kushner\n",
      "URL: https://en.wikipedia.org/wiki?curid=913005\n",
      "Views: 11295\n",
      "\n",
      "Gladiator II\n",
      "new title gladiatorii\n",
      "Title: Gladiator II\n",
      "URL: https://en.wikipedia.org/wiki?curid=72682130\n",
      "Views: 11059\n",
      "\n",
      "-\n",
      "new title \n",
      "Title: ----\n",
      "URL: https://en.wikipedia.org/wiki?curid=70703744\n",
      "Views: 10249\n",
      "\n",
      "Sunny Edwards\n",
      "new title sunnyedwards\n",
      "Title: Sunny Edwards\n",
      "URL: https://en.wikipedia.org/wiki?curid=62371618\n",
      "Views: 9137\n",
      "\n"
     ]
    }
   ],
   "source": [
    "import re\n",
    "clean_title = wikipedia.clean_title\n",
    "for i, row in english_df.iterrows():\n",
    "    \n",
    "    title = row['page_title']\n",
    "    print(title)\n",
    "    title = clean_title(title)\n",
    "    print(f\"new title {title}\")\n",
    "    if False:\n",
    "        date_clean_title = re.sub(r'\\s*\\(\\d{4}\\)', '', title) # remove date at the end\n",
    "        print(f\"date_clean_title: '{date_clean_title}'\")\n",
    "        page = get_wiki_page(title, title_to_file_path)\n",
    "    \n",
    "    page = wikipedia.get_wiki_page(title, title_to_file_path)\n",
    "            \n",
    "    if page is not None:\n",
    "        print(f\"Title: {page['title']}\")\n",
    "        print(f\"URL: {page['url']}\")\n",
    "        print(f\"Views: {row['views']}\")\n",
    "        print()\n",
    "    else:\n",
    "        print(f\"Page not found for title: {title}\")\n",
    "    if i > 10:\n",
    "        break"
   ]
  },
  {
   "cell_type": "markdown",
   "metadata": {},
   "source": [
    "# Extract the top 1M posts for the RAG, that are have wiki facts about them\n"
   ]
  },
  {
   "cell_type": "code",
   "execution_count": 15,
   "metadata": {},
   "outputs": [
    {
     "name": "stderr",
     "output_type": "stream",
     "text": [
      "10001it [00:06, 1533.17it/s]"
     ]
    },
    {
     "name": "stdout",
     "output_type": "stream",
     "text": [
      "5892 pages found; out of 10001\n"
     ]
    },
    {
     "name": "stderr",
     "output_type": "stream",
     "text": [
      "\n"
     ]
    }
   ],
   "source": [
    "counts = 0\n",
    "for i, row in tqdm(english_df.iterrows()):\n",
    "    title = clean_title(row['page_title'])\n",
    "    data = wikipedia.get_wiki_page(title, title_to_file_path)\n",
    "    if data is None:\n",
    "        continue\n",
    "    text = data.get('text', \"\")\n",
    "    if len(text) < 100:\n",
    "        continue\n",
    "    if data is not None:\n",
    "        counts += 1\n",
    "    if i > 10_000:\n",
    "        break \n",
    "print(f\"{counts} pages found; out of {i}\")"
   ]
  },
  {
   "cell_type": "code",
   "execution_count": null,
   "metadata": {},
   "outputs": [
    {
     "name": "stdout",
     "output_type": "stream",
     "text": [
      "loaded from /n/home04/rrinberg/code/wiki-rag/assets/english_pageviews.csv\n"
     ]
    }
   ],
   "source": []
  }
 ],
 "metadata": {
  "kernelspec": {
   "display_name": "Python 3",
   "language": "python",
   "name": "python3"
  },
  "language_info": {
   "codemirror_mode": {
    "name": "ipython",
    "version": 3
   },
   "file_extension": ".py",
   "mimetype": "text/x-python",
   "name": "python",
   "nbconvert_exporter": "python",
   "pygments_lexer": "ipython3",
   "version": "3.10.13"
  }
 },
 "nbformat": 4,
 "nbformat_minor": 2
}

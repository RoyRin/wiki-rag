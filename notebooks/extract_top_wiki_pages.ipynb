{
 "cells": [
  {
   "cell_type": "markdown",
   "metadata": {},
   "source": [
    "# Extract top 1M pages\n",
    "From here: https://dumps.wikimedia.org/other/pageviews/2024/2024-12/\n"
   ]
  },
  {
   "cell_type": "code",
   "execution_count": 14,
   "metadata": {},
   "outputs": [
    {
     "data": {
      "text/plain": [
       "True"
      ]
     },
     "execution_count": 14,
     "metadata": {},
     "output_type": "execute_result"
    }
   ],
   "source": [
    "from pathlib import Path\n",
    "import os \n",
    "CWD = Path(os.getcwd())\n",
    "BASEDIR = CWD.parent\n",
    "asset_dir = BASEDIR / 'assets'\n",
    "stats_f = asset_dir/ 'pageviews-20241201-000000'\n",
    "stats_f.exists()"
   ]
  },
  {
   "cell_type": "markdown",
   "metadata": {},
   "source": [
    "## Example from stats file:\n",
    "\n",
    "project page_title views bytes\n",
    "\n",
    "```\n",
    "\n",
    "en.m Fertile_material 1 0\n",
    "en.m Fertilisation 3 0\n",
    "en.m Fertiliser 1 0\n",
    "en.m Fertilisers_and_Chemicals_Travancore 1 0\n",
    "en.m Fertility 10 0\n",
    "en.m Fertility_and_intelligence 4 0\n",
    "en.m Fertility_and_religion 2 0\n",
    "en.m Fertility_awareness 2 0\n",
    "en.m Fertility_clinic 1 0\n",
    "en.m Fertility_fraud 5 0\n",
    "en.m Fertility_goddess 1 0\n",
    "en.m Fertility_in_art 2 0\n",
    "en.m Fertility_preservation 1 0\n",
    "\n",
    "```"
   ]
  },
  {
   "cell_type": "code",
   "execution_count": 2,
   "metadata": {},
   "outputs": [
    {
     "name": "stdout",
     "output_type": "stream",
     "text": [
      "  project                              page_title  views  bytes\n",
      "0     NaN                                       -      1      0\n",
      "1     NaN             Category:Project_concept/ss      1      0\n",
      "2     NaN                      File:En_obs_v8.pdf      1      0\n",
      "3     NaN             File:Wikifunctions-logo.svg      1      0\n",
      "4     NaN  Special:MyLanguage/Wikifunctions:About      1      0\n"
     ]
    }
   ],
   "source": [
    "import pandas as pd\n",
    "\n",
    "# Replace 'filename.txt' with your actual file path\n",
    "df = pd.read_csv(stats_f, sep=' ', header=None, names=['project', 'page_title', 'views', 'bytes'])\n",
    "\n",
    "print(df.head())\n"
   ]
  },
  {
   "cell_type": "code",
   "execution_count": 18,
   "metadata": {},
   "outputs": [
    {
     "name": "stdout",
     "output_type": "stream",
     "text": [
      "saved to /n/home04/rrinberg/code/wiki-rag/assets/english_pageviews.csv\n",
      "(1678755, 2)\n"
     ]
    },
    {
     "data": {
      "text/html": [
       "<div>\n",
       "<style scoped>\n",
       "    .dataframe tbody tr th:only-of-type {\n",
       "        vertical-align: middle;\n",
       "    }\n",
       "\n",
       "    .dataframe tbody tr th {\n",
       "        vertical-align: top;\n",
       "    }\n",
       "\n",
       "    .dataframe thead th {\n",
       "        text-align: right;\n",
       "    }\n",
       "</style>\n",
       "<table border=\"1\" class=\"dataframe\">\n",
       "  <thead>\n",
       "    <tr style=\"text-align: right;\">\n",
       "      <th></th>\n",
       "      <th>page_title</th>\n",
       "      <th>views</th>\n",
       "    </tr>\n",
       "  </thead>\n",
       "  <tbody>\n",
       "    <tr>\n",
       "      <th>1387629</th>\n",
       "      <td>Special:Search</td>\n",
       "      <td>207123</td>\n",
       "    </tr>\n",
       "    <tr>\n",
       "      <th>974995</th>\n",
       "      <td>Main Page</td>\n",
       "      <td>175514</td>\n",
       "    </tr>\n",
       "    <tr>\n",
       "      <th>1424275</th>\n",
       "      <td>Survivor Series: WarGames (2024)</td>\n",
       "      <td>36908</td>\n",
       "    </tr>\n",
       "    <tr>\n",
       "      <th>1632499</th>\n",
       "      <td>Wikipedia:Featured pictures</td>\n",
       "      <td>20938</td>\n",
       "    </tr>\n",
       "    <tr>\n",
       "      <th>1630391</th>\n",
       "      <td>Wicked (2024 film)</td>\n",
       "      <td>17021</td>\n",
       "    </tr>\n",
       "    <tr>\n",
       "      <th>1630398</th>\n",
       "      <td>Wicked (musical)</td>\n",
       "      <td>14723</td>\n",
       "    </tr>\n",
       "    <tr>\n",
       "      <th>231035</th>\n",
       "      <td>Bob Bryar</td>\n",
       "      <td>13799</td>\n",
       "    </tr>\n",
       "    <tr>\n",
       "      <th>1046373</th>\n",
       "      <td>Moana 2</td>\n",
       "      <td>11342</td>\n",
       "    </tr>\n",
       "    <tr>\n",
       "      <th>334433</th>\n",
       "      <td>Charles Kushner</td>\n",
       "      <td>11295</td>\n",
       "    </tr>\n",
       "    <tr>\n",
       "      <th>623981</th>\n",
       "      <td>Gladiator II</td>\n",
       "      <td>11059</td>\n",
       "    </tr>\n",
       "    <tr>\n",
       "      <th>489</th>\n",
       "      <td>-</td>\n",
       "      <td>10249</td>\n",
       "    </tr>\n",
       "    <tr>\n",
       "      <th>1420455</th>\n",
       "      <td>Sunny Edwards</td>\n",
       "      <td>9137</td>\n",
       "    </tr>\n",
       "    <tr>\n",
       "      <th>657123</th>\n",
       "      <td>Hailee Steinfeld</td>\n",
       "      <td>8885</td>\n",
       "    </tr>\n",
       "    <tr>\n",
       "      <th>402530</th>\n",
       "      <td>Cynthia Erivo</td>\n",
       "      <td>8820</td>\n",
       "    </tr>\n",
       "    <tr>\n",
       "      <th>151021</th>\n",
       "      <td>Ariana Grande</td>\n",
       "      <td>7844</td>\n",
       "    </tr>\n",
       "    <tr>\n",
       "      <th>1431300</th>\n",
       "      <td>Syrian civil war</td>\n",
       "      <td>7756</td>\n",
       "    </tr>\n",
       "    <tr>\n",
       "      <th>176693</th>\n",
       "      <td>BRICS</td>\n",
       "      <td>7431</td>\n",
       "    </tr>\n",
       "    <tr>\n",
       "      <th>1297077</th>\n",
       "      <td>Ryan Day (American football)</td>\n",
       "      <td>7295</td>\n",
       "    </tr>\n",
       "    <tr>\n",
       "      <th>1117187</th>\n",
       "      <td>Northwestern Syria offensive (2024)</td>\n",
       "      <td>7053</td>\n",
       "    </tr>\n",
       "    <tr>\n",
       "      <th>1029331</th>\n",
       "      <td>Michigan–Ohio State football rivalry</td>\n",
       "      <td>6898</td>\n",
       "    </tr>\n",
       "  </tbody>\n",
       "</table>\n",
       "</div>"
      ],
      "text/plain": [
       "                                   page_title   views\n",
       "1387629                        Special:Search  207123\n",
       "974995                              Main Page  175514\n",
       "1424275      Survivor Series: WarGames (2024)   36908\n",
       "1632499           Wikipedia:Featured pictures   20938\n",
       "1630391                    Wicked (2024 film)   17021\n",
       "1630398                      Wicked (musical)   14723\n",
       "231035                              Bob Bryar   13799\n",
       "1046373                               Moana 2   11342\n",
       "334433                        Charles Kushner   11295\n",
       "623981                           Gladiator II   11059\n",
       "489                                         -   10249\n",
       "1420455                         Sunny Edwards    9137\n",
       "657123                       Hailee Steinfeld    8885\n",
       "402530                          Cynthia Erivo    8820\n",
       "151021                          Ariana Grande    7844\n",
       "1431300                      Syrian civil war    7756\n",
       "176693                                  BRICS    7431\n",
       "1297077          Ryan Day (American football)    7295\n",
       "1117187   Northwestern Syria offensive (2024)    7053\n",
       "1029331  Michigan–Ohio State football rivalry    6898"
      ]
     },
     "execution_count": 18,
     "metadata": {},
     "output_type": "execute_result"
    }
   ],
   "source": [
    "english_mask = (df[\"project\"] == \"en\") | (df[\"project\"] == \"en.m\")\n",
    "english_df = df[english_mask]\n",
    "\n",
    "\n",
    "english_df.head()\n",
    "\n",
    "english_df = english_df.groupby('page_title', as_index=False).agg({'views': 'sum', 'bytes': 'sum'})\n",
    "\n",
    "\n",
    "# sort by views\n",
    "english_df = english_df.sort_values(by='views', ascending=False)\n",
    "# combine views from en and en.m\n",
    "\n",
    "# for page ttles swap _ wit \" \"\n",
    "english_df['page_title'] = english_df['page_title'].str.replace('_', ' ')\n",
    "\n",
    "# drop bytes col\n",
    "english_df = english_df.drop(columns=['bytes'])\n",
    "# save to asset_dir\n",
    "output_f = asset_dir / 'english_pageviews.csv'\n",
    "english_df.to_csv(output_f, index=False)\n",
    "print(f\"saved to {output_f}\")\n",
    "print(english_df.shape)\n",
    "english_df.head(20)\n"
   ]
  },
  {
   "cell_type": "code",
   "execution_count": null,
   "metadata": {},
   "outputs": [],
   "source": []
  }
 ],
 "metadata": {
  "kernelspec": {
   "display_name": "Python 3",
   "language": "python",
   "name": "python3"
  },
  "language_info": {
   "codemirror_mode": {
    "name": "ipython",
    "version": 3
   },
   "file_extension": ".py",
   "mimetype": "text/x-python",
   "name": "python",
   "nbconvert_exporter": "python",
   "pygments_lexer": "ipython3",
   "version": "3.10.13"
  }
 },
 "nbformat": 4,
 "nbformat_minor": 2
}

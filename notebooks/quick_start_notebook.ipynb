{
 "cells": [
  {
   "cell_type": "markdown",
   "metadata": {},
   "source": [
    "# Quickstart notebook to load the Wiki RAG and use it"
   ]
  },
  {
   "cell_type": "code",
   "execution_count": 6,
   "metadata": {},
   "outputs": [
    {
     "name": "stderr",
     "output_type": "stream",
     "text": [
      "Fetching 2 files: 100%|██████████| 2/2 [00:00<00:00, 2932.05it/s]\n"
     ]
    },
    {
     "name": "stdout",
     "output_type": "stream",
     "text": [
      "1. Wiki Page: 'Protein'\n",
      "\tProteins are large biomolecules and macromolecules...\n",
      "\n",
      "2. Wiki Page: 'Metabolism'\n",
      "\tMetabolism (, from \"metabolē\", \"change\") is the se...\n",
      "\n"
     ]
    }
   ],
   "source": [
    "from wiki_rag import rag\n",
    "# Get RAG from HuggingFace\n",
    "vectorstore = rag.download_and_build_rag_from_huggingface(\n",
    "    rag_name=\"wiki_index__top_100000__2025-04-11\")\n",
    "# Query RAG\n",
    "responses = vectorstore.similarity_search(\"Biochemistry\", k=2)\n",
    "# Print Results\n",
    "for i, result in enumerate(responses):\n",
    "    print(f\"{i+1}. Wiki Page: '{result.metadata['title']}'\\n\\t{result.page_content[:50]}...\\n\")\n"
   ]
  },
  {
   "cell_type": "code",
   "execution_count": null,
   "metadata": {},
   "outputs": [],
   "source": []
  }
 ],
 "metadata": {
  "kernelspec": {
   "display_name": "wiki-rag-G_F2O5XX-py3.11",
   "language": "python",
   "name": "python3"
  },
  "language_info": {
   "codemirror_mode": {
    "name": "ipython",
    "version": 3
   },
   "file_extension": ".py",
   "mimetype": "text/x-python",
   "name": "python",
   "nbconvert_exporter": "python",
   "pygments_lexer": "ipython3",
   "version": "3.11.8"
  }
 },
 "nbformat": 4,
 "nbformat_minor": 2
}

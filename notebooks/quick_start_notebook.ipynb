{
 "cells": [
  {
   "cell_type": "markdown",
   "metadata": {},
   "source": [
    "# Quickstart notebook to load the Wiki RAG and use it"
   ]
  },
  {
   "cell_type": "code",
   "execution_count": 5,
   "metadata": {},
   "outputs": [
    {
     "name": "stderr",
     "output_type": "stream",
     "text": [
      "Fetching 2 files: 100%|██████████| 2/2 [00:00<00:00, 2604.35it/s]\n"
     ]
    },
    {
     "name": "stdout",
     "output_type": "stream",
     "text": [
      "1. Wiki Page: 'Protein'\n",
      "\tProteins are large biomolecules and macromolecules...\n",
      "\n",
      "2. Wiki Page: 'Metabolism'\n",
      "\tMetabolism (, from \"metabolē\", \"change\") is the se...\n",
      "\n",
      "3. Wiki Page: 'Carbohydrate'\n",
      "\tA carbohydrate () is a biomolecule composed of car...\n",
      "\n"
     ]
    }
   ],
   "source": [
    "from pathlib import Path\n",
    "from wiki_rag import rag\n",
    "\n",
    "# Get RAG from HuggingFace\n",
    "BAAI_embedding = rag.PromptedBGE(model_name=\"BAAI/bge-base-en\") \n",
    "faiss_name = \"wiki_index__top_100000__2025-04-11\"\n",
    "vectorstore = rag.download_and_build_rag_from_huggingface(\n",
    "    embeddings=BAAI_embedding,\n",
    "    rag_name=faiss_name,\n",
    "    save_dir=Path(\"wiki_rag_data\"))\n",
    "\n",
    "# Query RAG\n",
    "responses = vectorstore.similarity_search(\"Biochemistry\", k=3)\n",
    "# Print Results\n",
    "for i, result in enumerate(responses[:10]):\n",
    "    title = result.metadata[\"title\"]\n",
    "    print(f\"{i+1}. Wiki Page: '{title}'\\n\\t{result.page_content[:50]}...\\n\")\n",
    " "
   ]
  }
 ],
 "metadata": {
  "kernelspec": {
   "display_name": "wiki-rag-G_F2O5XX-py3.11",
   "language": "python",
   "name": "python3"
  },
  "language_info": {
   "codemirror_mode": {
    "name": "ipython",
    "version": 3
   },
   "file_extension": ".py",
   "mimetype": "text/x-python",
   "name": "python",
   "nbconvert_exporter": "python",
   "pygments_lexer": "ipython3",
   "version": "3.11.8"
  }
 },
 "nbformat": 4,
 "nbformat_minor": 2
}

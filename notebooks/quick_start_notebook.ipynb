{
 "cells": [
  {
   "cell_type": "markdown",
   "metadata": {},
   "source": [
    "# Quickstart notebook to load the Wiki RAG and use it"
   ]
  },
  {
   "cell_type": "code",
   "execution_count": 30,
   "metadata": {},
   "outputs": [
    {
     "name": "stderr",
     "output_type": "stream",
     "text": [
      "/Users/roy/Library/Caches/pypoetry/virtualenvs/wiki-rag-G_F2O5XX-py3.11/lib/python3.11/site-packages/huggingface_hub/file_download.py:933: UserWarning: `local_dir_use_symlinks` parameter is deprecated and will be ignored. The process to download files to a local folder has been updated and do not rely on symlinks anymore. You only need to pass a destination folder as`local_dir`.\n",
      "For more details, check out https://huggingface.co/docs/huggingface_hub/main/en/guides/download#download-files-to-local-folder.\n",
      "  warnings.warn(\n",
      "Fetching 2 files: 100%|██████████| 2/2 [00:00<00:00, 2567.68it/s]"
     ]
    },
    {
     "name": "stdout",
     "output_type": "stream",
     "text": [
      "Downloaded to /Users/roy/code/research/unlearning/data_to_concept_unlearning/wiki-rag/notebooks/wiki_rag_data\n",
      "local_dir: /Users/roy/code/research/unlearning/data_to_concept_unlearning/wiki-rag/notebooks/wiki_rag_data\n"
     ]
    },
    {
     "name": "stderr",
     "output_type": "stream",
     "text": [
      "\n"
     ]
    }
   ],
   "source": [
    "from langchain_community.vectorstores import FAISS\n",
    "from langchain.embeddings import HuggingFaceEmbeddings\n",
    "\n",
    "# Download RAG\n",
    "from huggingface_hub import snapshot_download\n",
    "from pathlib import Path\n",
    "CWD = Path.cwd()\n",
    "\n",
    "# specify the repo and folder\n",
    "repo_id = \"royrin/wiki-rag\"\n",
    "wiki_rag_data_dir = Path(\"wiki_rag_data\")\n",
    "# make dir\n",
    "wiki_rag_data_dir.mkdir(parents=True, exist_ok=True)\n",
    "\n",
    "faiss_name = \"wiki_index__top_100000__2025-04-11\"\n",
    "\n",
    "# download the specific folder\n",
    "local_dir = snapshot_download(\n",
    "    repo_id=repo_id,\n",
    "    repo_type=\"model\",\n",
    "    allow_patterns=[f\"{faiss_name}/**\"],\n",
    "    local_dir=f\"./{wiki_rag_data_dir}\",\n",
    "    local_dir_use_symlinks=False\n",
    ")\n",
    "\n",
    "print(f\"Downloaded to {local_dir}\")\n",
    "print(f\"local_dir: {local_dir}\")\n",
    "\n",
    "faiss_path = Path(local_dir)/ faiss_name"
   ]
  },
  {
   "cell_type": "code",
   "execution_count": 26,
   "metadata": {},
   "outputs": [],
   "source": [
    "class PromptedBGE(HuggingFaceEmbeddings):\n",
    "    def embed_documents(self, texts):\n",
    "        return super().embed_documents([\n",
    "            f\"Represent this document for retrieval: {t}\" for t in texts\n",
    "        ])\n",
    "\n",
    "    def embed_query(self, text):\n",
    "        return super().embed_query(f\"Represent this query for retrieval: {text}\")\n",
    "# BAAI_embedding = HuggingFaceEmbeddings(model_name=\"BAAI/bge-large-en\")\n",
    "\n",
    "BAAI_embedding = PromptedBGE(model_name=\"BAAI/bge-base-en\")  # or bge-large-en"
   ]
  },
  {
   "cell_type": "code",
   "execution_count": 34,
   "metadata": {},
   "outputs": [],
   "source": [
    "vectorstore = FAISS.load_local(faiss_path, BAAI_embedding,\n",
    "                                   allow_dangerous_deserialization=True)"
   ]
  },
  {
   "cell_type": "markdown",
   "metadata": {},
   "source": [
    "# example RAG query"
   ]
  },
  {
   "cell_type": "code",
   "execution_count": 39,
   "metadata": {},
   "outputs": [
    {
     "name": "stdout",
     "output_type": "stream",
     "text": [
      "1. Biology\n",
      "\tBiology is the scientific study of life. It is a n...\n",
      "\n",
      "2. DAVID\n",
      "\tDAVID (the database for annotation, visualization ...\n",
      "\n",
      "3. Protein\n",
      "\tProteins are large biomolecules and macromolecules...\n",
      "\n",
      "4. PANTHER\n",
      "\tIn bioinformatics, the PANTHER (protein analysis t...\n",
      "\n",
      "5. Metabolism\n",
      "\tMetabolism (, from \"metabolē\", \"change\") is the se...\n",
      "\n",
      "6. Carbohydrate\n",
      "\tA carbohydrate () is a biomolecule composed of car...\n",
      "\n",
      "7. Taxonomy (biology)\n",
      "\tIn biology, taxonomy () is the scientific study of...\n",
      "\n",
      "8. DNA and RNA codon tables\n",
      "\tA codon table can be used to translate a genetic c...\n",
      "\n",
      "9. Anatomy\n",
      "\tAnatomy () is the branch of morphology concerned w...\n",
      "\n",
      "10. Collagen\n",
      "\tCollagen () is the main structural protein in the ...\n",
      "\n"
     ]
    }
   ],
   "source": [
    "user_query = \"Biology\"\n",
    "response = vectorstore.similarity_search(user_query, k=10)\n",
    "for i, result in enumerate(response[:10]):\n",
    "    title = result.metadata[\"title\"]\n",
    "    content = result.page_content\n",
    "    print(f\"{i+1}. {title}\\n\\t{content[:50]}...\\n\")\n",
    " "
   ]
  }
 ],
 "metadata": {
  "kernelspec": {
   "display_name": "wiki-rag-G_F2O5XX-py3.11",
   "language": "python",
   "name": "python3"
  },
  "language_info": {
   "codemirror_mode": {
    "name": "ipython",
    "version": 3
   },
   "file_extension": ".py",
   "mimetype": "text/x-python",
   "name": "python",
   "nbconvert_exporter": "python",
   "pygments_lexer": "ipython3",
   "version": "3.11.8"
  }
 },
 "nbformat": 4,
 "nbformat_minor": 2
}

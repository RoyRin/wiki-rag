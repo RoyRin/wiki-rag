{
 "cells": [
  {
   "cell_type": "code",
   "execution_count": 1,
   "metadata": {},
   "outputs": [],
   "source": [
    "import wikipedia \n",
    "import transformers\n",
    "from pathlib import Path \n",
    "from transformers import AutoModelForCausalLM, AutoTokenizer\n",
    "transformers.utils.logging.set_verbosity(transformers.logging.CRITICAL)\n",
    "\n",
    "\n",
    "\n",
    "# My personal cache directory\n",
    "cache_dir = Path('/n/netscratch/vadhan_lab/Lab/rrinberg/HF_cache')\n",
    "data_cache= Path(\"/n/netscratch/vadhan_lab/Lab/rrinberg/wikipedia\")\n",
    "\n",
    "if not cache_dir.exists():\n",
    "    cache_dir = None \n",
    "if not data_cache.exists():\n",
    "    data_cache = None \n",
    "    \n",
    "\n",
    "import os\n",
    "os.environ[\"HF_HOME\"] = str(cache_dir)\n",
    "\n",
    "\n",
    "os.environ[\"TRANSFORMERS_CACHE\"] = str(cache_dir)\n",
    "os.environ[\"HF_DATASETS_CACHE\"] = str(cache_dir)\n",
    "os.environ[\"HF_HUB_CACHE\"] = str(cache_dir)"
   ]
  },
  {
   "cell_type": "code",
   "execution_count": 2,
   "metadata": {},
   "outputs": [
    {
     "name": "stderr",
     "output_type": "stream",
     "text": [
      "loading configuration file config.json from cache at /n/netscratch/vadhan_lab/Lab/rrinberg/HF_cache/models--HuggingFaceH4--zephyr-7b-beta/snapshots/892b3d7a7b1cf10c7a701c60881cd93df615734c/config.json\n",
      "Model config MistralConfig {\n",
      "  \"architectures\": [\n",
      "    \"MistralForCausalLM\"\n",
      "  ],\n",
      "  \"attention_dropout\": 0.0,\n",
      "  \"bos_token_id\": 1,\n",
      "  \"eos_token_id\": 2,\n",
      "  \"head_dim\": 128,\n",
      "  \"hidden_act\": \"silu\",\n",
      "  \"hidden_size\": 4096,\n",
      "  \"initializer_range\": 0.02,\n",
      "  \"intermediate_size\": 14336,\n",
      "  \"max_position_embeddings\": 32768,\n",
      "  \"model_type\": \"mistral\",\n",
      "  \"num_attention_heads\": 32,\n",
      "  \"num_hidden_layers\": 32,\n",
      "  \"num_key_value_heads\": 8,\n",
      "  \"pad_token_id\": 2,\n",
      "  \"rms_norm_eps\": 1e-05,\n",
      "  \"rope_theta\": 10000.0,\n",
      "  \"sliding_window\": 4096,\n",
      "  \"tie_word_embeddings\": false,\n",
      "  \"torch_dtype\": \"float32\",\n",
      "  \"transformers_version\": \"4.51.1\",\n",
      "  \"use_cache\": true,\n",
      "  \"vocab_size\": 32000\n",
      "}\n",
      "\n"
     ]
    },
    {
     "name": "stdout",
     "output_type": "stream",
     "text": [
      "model_id- HuggingFaceH4/zephyr-7b-beta\n",
      "cache_dir - /n/netscratch/vadhan_lab/Lab/rrinberg/HF_cache\n"
     ]
    },
    {
     "name": "stderr",
     "output_type": "stream",
     "text": [
      "Detected torch version: 2.5.1\n",
      "Detected torch version: 2.5.1\n",
      "loading weights file model.safetensors from cache at /n/netscratch/vadhan_lab/Lab/rrinberg/HF_cache/models--HuggingFaceH4--zephyr-7b-beta/snapshots/892b3d7a7b1cf10c7a701c60881cd93df615734c/model.safetensors.index.json\n",
      "Instantiating MistralForCausalLM model under default dtype torch.float32.\n",
      "Generate config GenerationConfig {\n",
      "  \"bos_token_id\": 1,\n",
      "  \"eos_token_id\": 2,\n",
      "  \"pad_token_id\": 2\n",
      "}\n",
      "\n"
     ]
    },
    {
     "data": {
      "application/vnd.jupyter.widget-view+json": {
       "model_id": "fc857c1b0763416c92496efbadf2242d",
       "version_major": 2,
       "version_minor": 0
      },
      "text/plain": [
       "Loading checkpoint shards:   0%|          | 0/8 [00:00<?, ?it/s]"
      ]
     },
     "metadata": {},
     "output_type": "display_data"
    },
    {
     "name": "stderr",
     "output_type": "stream",
     "text": [
      "All model checkpoint weights were used when initializing MistralForCausalLM.\n",
      "\n",
      "All the weights of MistralForCausalLM were initialized from the model checkpoint at HuggingFaceH4/zephyr-7b-beta.\n",
      "If your task is similar to the task the model of the checkpoint was trained on, you can already use MistralForCausalLM for predictions without further training.\n",
      "loading configuration file generation_config.json from cache at /n/netscratch/vadhan_lab/Lab/rrinberg/HF_cache/models--HuggingFaceH4--zephyr-7b-beta/snapshots/892b3d7a7b1cf10c7a701c60881cd93df615734c/generation_config.json\n",
      "Generate config GenerationConfig {\n",
      "  \"bos_token_id\": 1,\n",
      "  \"eos_token_id\": 2\n",
      "}\n",
      "\n",
      "loading file tokenizer.model from cache at /n/netscratch/vadhan_lab/Lab/rrinberg/HF_cache/models--HuggingFaceH4--zephyr-7b-beta/snapshots/892b3d7a7b1cf10c7a701c60881cd93df615734c/tokenizer.model\n",
      "loading file added_tokens.json from cache at /n/netscratch/vadhan_lab/Lab/rrinberg/HF_cache/models--HuggingFaceH4--zephyr-7b-beta/snapshots/892b3d7a7b1cf10c7a701c60881cd93df615734c/added_tokens.json\n",
      "loading file special_tokens_map.json from cache at /n/netscratch/vadhan_lab/Lab/rrinberg/HF_cache/models--HuggingFaceH4--zephyr-7b-beta/snapshots/892b3d7a7b1cf10c7a701c60881cd93df615734c/special_tokens_map.json\n",
      "loading file tokenizer_config.json from cache at /n/netscratch/vadhan_lab/Lab/rrinberg/HF_cache/models--HuggingFaceH4--zephyr-7b-beta/snapshots/892b3d7a7b1cf10c7a701c60881cd93df615734c/tokenizer_config.json\n",
      "loading file tokenizer.json from cache at /n/netscratch/vadhan_lab/Lab/rrinberg/HF_cache/models--HuggingFaceH4--zephyr-7b-beta/snapshots/892b3d7a7b1cf10c7a701c60881cd93df615734c/tokenizer.json\n",
      "loading file chat_template.jinja from cache at None\n"
     ]
    }
   ],
   "source": [
    "import torch \n",
    "from transformers.utils import logging\n",
    "logging.set_verbosity_debug()\n",
    "\n",
    "model_id = 'HuggingFaceH4/zephyr-7b-beta'\n",
    "\n",
    "#model_id = \"mistralai/Mistral-7B-Instruct-v0.3\"\n",
    "print(f\"model_id- {model_id}\")\n",
    "print(f\"cache_dir - {cache_dir}\")   \n",
    "device = 'cuda:0'\n",
    "dtype= torch.float32\n",
    "model = AutoModelForCausalLM.from_pretrained(model_id,\n",
    "                 \n",
    "                                             torch_dtype=dtype, cache_dir=cache_dir,)\n",
    "model = model.to(device)\n",
    "model.requires_grad_(False)\n",
    "tokenizer = AutoTokenizer.from_pretrained(model_id, \n",
    "                                          use_fast=False, cache_dir=cache_dir)"
   ]
  },
  {
   "cell_type": "code",
   "execution_count": null,
   "metadata": {},
   "outputs": [],
   "source": []
  },
  {
   "cell_type": "code",
   "execution_count": 3,
   "metadata": {},
   "outputs": [
    {
     "name": "stdout",
     "output_type": "stream",
     "text": [
      "AccessibleComputing\n",
      "dict_keys(['id', 'title', 'url', 'text'])\n",
      "Anarchism\n",
      "dict_keys(['id', 'title', 'url', 'text'])\n",
      "45652\n",
      "Anarchism\n",
      "\n",
      "Anarchism is a political philosophy and movement that seeks to abolish all institutions that perpetuate authority, coercion, or hierarchy, primarily targeting the state and capitalism. Anarchism advocates for the replacement of the state with stateless societies and voluntary free associations. A historically left-wing movement, anarchism is usually described as the libertarian wing of the socialist movement (libertarian socialism).\n",
      "Although traces of anarchist ideas are found all throughout history, modern anarchism emerged from the Enlightenment. During the latter half of the 19th and the first decades of the 20th century, the anarchist movement flourished in most parts of the world and had a significant role in workers' struggles for emancipation. Various anarchist schools of thought formed during this period. Anarchists have taken part in several revolutions, most notably in the Paris Commune, the Russian Civil War and the Spanish Civil War, whose end marked the end of t\n",
      "AfghanistanHistory\n",
      "dict_keys(['id', 'title', 'url', 'text'])\n",
      "AfghanistanGeography\n",
      "dict_keys(['id', 'title', 'url', 'text'])\n",
      "AfghanistanPeople\n",
      "dict_keys(['id', 'title', 'url', 'text'])\n",
      "AfghanistanCommunications\n",
      "dict_keys(['id', 'title', 'url', 'text'])\n",
      "AfghanistanTransportations\n",
      "dict_keys(['id', 'title', 'url', 'text'])\n",
      "AfghanistanMilitary\n",
      "dict_keys(['id', 'title', 'url', 'text'])\n",
      "AfghanistanTransnationalIssues\n",
      "dict_keys(['id', 'title', 'url', 'text'])\n",
      "AssistiveTechnology\n",
      "dict_keys(['id', 'title', 'url', 'text'])\n",
      "AmoeboidTaxa\n",
      "dict_keys(['id', 'title', 'url', 'text'])\n",
      "Autism spectrum\n",
      "dict_keys(['id', 'title', 'url', 'text'])\n",
      "AlbaniaHistory\n",
      "dict_keys(['id', 'title', 'url', 'text'])\n",
      "AlbaniaPeople\n",
      "dict_keys(['id', 'title', 'url', 'text'])\n",
      "AsWeMayThink\n",
      "dict_keys(['id', 'title', 'url', 'text'])\n",
      "AlbaniaGovernment\n",
      "dict_keys(['id', 'title', 'url', 'text'])\n",
      "AlbaniaEconomy\n",
      "dict_keys(['id', 'title', 'url', 'text'])\n",
      "Albedo\n",
      "dict_keys(['id', 'title', 'url', 'text'])\n",
      "23865\n",
      "Albedo\n",
      "\n",
      "Albedo ( ; ) is the fraction of sunlight that is diffusely reflected by a body. It is measured on a scale from 0 (corresponding to a black body that absorbs all incident radiation) to 1 (corresponding to a body that reflects all incident radiation). \"Surface albedo\" is defined as the ratio of radiosity \"J\"e to the irradiance \"E\"e (flux per unit area) received by a surface. The proportion reflected is not only determined by properties of the surface itself, but also by the spectral and angular distribution of solar radiation reaching the Earth's surface. These factors vary with atmospheric composition, geographic location, and time (see position of the Sun).\n",
      "While directional-hemispherical reflectance factor is calculated for a single angle of incidence (i.e., for a given position of the Sun), albedo is the directional integration of reflectance over all solar angles in a given period. The temporal resolution may range from seconds (as obtained from flux measurements) to daily, \n"
     ]
    }
   ],
   "source": [
    "from importlib import reload \n",
    "\n",
    "from wiki_rag import wikipedia\n",
    "reload(wikipedia)\n",
    "from wiki_rag import rag\n",
    "\n",
    "import os\n",
    "\n",
    "from pathlib import Path\n",
    "data_cache= Path(\"/n/netscratch/vadhan_lab/Lab/rrinberg/wikipedia/text\")\n",
    "\n",
    "\n",
    "\n",
    "\n",
    "\n",
    "for i, article in enumerate(wikipedia.parse_wikiextractor_output(data_cache)):\n",
    "    print(article['title'])\n",
    "    print(article.keys())\n",
    "    \n",
    "    text = article['text']\n",
    "    if len(text) < 100:\n",
    "        continue\n",
    "    \n",
    "    # remove any leading or trailing whitespace\n",
    "    text = text.strip()\n",
    "    print(len(text))\n",
    "    print(text[:1000])  # preview first 300 characters\n",
    "    if i >10:\n",
    "        break  # remove this to keep going\n"
   ]
  },
  {
   "cell_type": "code",
   "execution_count": 4,
   "metadata": {},
   "outputs": [
    {
     "name": "stderr",
     "output_type": "stream",
     "text": [
      "Asking to truncate to max_length but no maximum length is provided and the model has no predefined maximum length. Default to no truncation.\n"
     ]
    },
    {
     "name": "stdout",
     "output_type": "stream",
     "text": [
      "✅ FAISS index saved to wiki_faiss_index\n"
     ]
    }
   ],
   "source": [
    "\n",
    "import torch\n",
    "from transformers import AutoTokenizer, AutoModelForCausalLM\n",
    "from langchain.vectorstores import FAISS\n",
    "from langchain.docstore.document import Document\n",
    "from langchain.embeddings.base import Embeddings\n",
    "from typing import List\n",
    "import numpy as np\n",
    "from pathlib import Path \n",
    "import json\n",
    "import os\n",
    "from wiki_rag import wikipedia\n",
    "from itertools import islice\n",
    "from typing import Iterator\n",
    "\n",
    "\n",
    "# === Helper to batch an iterator ===\n",
    "def batched(iterable: Iterator, batch_size: int):\n",
    "    iterator = iter(iterable)\n",
    "    while batch := list(islice(iterator, batch_size)):\n",
    "        yield batch\n",
    "\n",
    "embeddings = rag.ModelEmbeddings(model, tokenizer, device)\n",
    "vectorstore = None\n",
    "\n",
    "wiki_generator = wikipedia.parse_wikiextractor_output(data_cache)\n",
    "counts = 0\n",
    "batch_size = 4\n",
    "\n",
    "docs = []\n",
    "    \n",
    "for i, d in enumerate(wiki_generator):\n",
    "    #print(f\"Processing article {counts}: {d['title']}\")\n",
    "    if counts > int(10):\n",
    "        break\n",
    "\n",
    "    title = d['title']\n",
    "    url = d['url']\n",
    "    text = d['text']\n",
    "    id_ = d.get('id')\n",
    "    if len(text) < 100:\n",
    "        continue\n",
    "    counts +=1\n",
    "    \n",
    "    if counts % 25 == 0:\n",
    "        print(f\"Processed {counts} articles so far...\")\n",
    "    \n",
    "    text = text.strip()\n",
    "    # abstract is first 3 par\n",
    "    abstract = \"\\n\".join(text.split(\"\\n\")[:3])\n",
    "    \n",
    "    doc = Document(page_content=abstract, metadata={\"title\": title})\n",
    "    \n",
    "    \n",
    "    if vectorstore is None:\n",
    "        vectorstore = FAISS.from_documents([doc], embeddings)\n",
    "    else:\n",
    "        vectorstore.add_documents([doc])\n",
    "\n",
    "index_path = \"wiki_faiss_index\"\n",
    "if vectorstore:\n",
    "    vectorstore.save_local(index_path)\n",
    "    print(f\"✅ FAISS index saved to {index_path}\")\n",
    "else:\n",
    "    print(\"⚠️ No documents were indexed.\")\n"
   ]
  },
  {
   "cell_type": "code",
   "execution_count": null,
   "metadata": {},
   "outputs": [
    {
     "name": "stderr",
     "output_type": "stream",
     "text": [
      "loading configuration file config.json from cache at /n/home04/rrinberg/.cache/huggingface/hub/models--BAAI--bge-large-en/snapshots/abe7d9d814b775ca171121fb03f394dc42974275/config.json\n",
      "Model config BertConfig {\n",
      "  \"architectures\": [\n",
      "    \"BertModel\"\n",
      "  ],\n",
      "  \"attention_probs_dropout_prob\": 0.1,\n",
      "  \"classifier_dropout\": null,\n",
      "  \"gradient_checkpointing\": false,\n",
      "  \"hidden_act\": \"gelu\",\n",
      "  \"hidden_dropout_prob\": 0.1,\n",
      "  \"hidden_size\": 1024,\n",
      "  \"id2label\": {\n",
      "    \"0\": \"LABEL_0\"\n",
      "  },\n",
      "  \"initializer_range\": 0.02,\n",
      "  \"intermediate_size\": 4096,\n",
      "  \"label2id\": {\n",
      "    \"LABEL_0\": 0\n",
      "  },\n",
      "  \"layer_norm_eps\": 1e-12,\n",
      "  \"max_position_embeddings\": 512,\n",
      "  \"model_type\": \"bert\",\n",
      "  \"num_attention_heads\": 16,\n",
      "  \"num_hidden_layers\": 24,\n",
      "  \"pad_token_id\": 0,\n",
      "  \"position_embedding_type\": \"absolute\",\n",
      "  \"torch_dtype\": \"float32\",\n",
      "  \"transformers_version\": \"4.51.1\",\n",
      "  \"type_vocab_size\": 2,\n",
      "  \"use_cache\": true,\n",
      "  \"vocab_size\": 30522\n",
      "}\n",
      "\n",
      "loading weights file model.safetensors from cache at /n/home04/rrinberg/.cache/huggingface/hub/models--BAAI--bge-large-en/snapshots/abe7d9d814b775ca171121fb03f394dc42974275/model.safetensors\n",
      "All model checkpoint weights were used when initializing BertModel.\n",
      "\n",
      "All the weights of BertModel were initialized from the model checkpoint at BAAI/bge-large-en.\n",
      "If your task is similar to the task the model of the checkpoint was trained on, you can already use BertModel for predictions without further training.\n",
      "loading file vocab.txt from cache at /n/home04/rrinberg/.cache/huggingface/hub/models--BAAI--bge-large-en/snapshots/abe7d9d814b775ca171121fb03f394dc42974275/vocab.txt\n",
      "loading file tokenizer.json from cache at /n/home04/rrinberg/.cache/huggingface/hub/models--BAAI--bge-large-en/snapshots/abe7d9d814b775ca171121fb03f394dc42974275/tokenizer.json\n",
      "loading file added_tokens.json from cache at None\n",
      "loading file special_tokens_map.json from cache at /n/home04/rrinberg/.cache/huggingface/hub/models--BAAI--bge-large-en/snapshots/abe7d9d814b775ca171121fb03f394dc42974275/special_tokens_map.json\n",
      "loading file tokenizer_config.json from cache at /n/home04/rrinberg/.cache/huggingface/hub/models--BAAI--bge-large-en/snapshots/abe7d9d814b775ca171121fb03f394dc42974275/tokenizer_config.json\n",
      "loading file chat_template.jinja from cache at None\n"
     ]
    }
   ],
   "source": [
    "\n"
   ]
  },
  {
   "cell_type": "code",
   "execution_count": null,
   "metadata": {},
   "outputs": [
    {
     "data": {
      "application/vnd.jupyter.widget-view+json": {
       "model_id": "898bd8192b0a412c9ab6ef8df8961b66",
       "version_major": 2,
       "version_minor": 0
      },
      "text/plain": [
       "config_sentence_transformers.json:   0%|          | 0.00/124 [00:00<?, ?B/s]"
      ]
     },
     "metadata": {},
     "output_type": "display_data"
    },
    {
     "data": {
      "application/vnd.jupyter.widget-view+json": {
       "model_id": "db586eb2f3d645779428c30469f89d13",
       "version_major": 2,
       "version_minor": 0
      },
      "text/plain": [
       "README.md:   0%|          | 0.00/90.1k [00:00<?, ?B/s]"
      ]
     },
     "metadata": {},
     "output_type": "display_data"
    },
    {
     "data": {
      "application/vnd.jupyter.widget-view+json": {
       "model_id": "4b7d00c57dcc4eb2b1d509255d97d02a",
       "version_major": 2,
       "version_minor": 0
      },
      "text/plain": [
       "sentence_bert_config.json:   0%|          | 0.00/52.0 [00:00<?, ?B/s]"
      ]
     },
     "metadata": {},
     "output_type": "display_data"
    },
    {
     "data": {
      "application/vnd.jupyter.widget-view+json": {
       "model_id": "52c31c0299b64cbd92e6afb2d87b7f7e",
       "version_major": 2,
       "version_minor": 0
      },
      "text/plain": [
       "config.json:   0%|          | 0.00/719 [00:00<?, ?B/s]"
      ]
     },
     "metadata": {},
     "output_type": "display_data"
    },
    {
     "name": "stderr",
     "output_type": "stream",
     "text": [
      "loading configuration file config.json from cache at /n/home04/rrinberg/.cache/huggingface/hub/models--BAAI--bge-base-en/snapshots/b737bf5dcc6ee8bdc530531266b4804a5d77b5d8/config.json\n",
      "Model config BertConfig {\n",
      "  \"architectures\": [\n",
      "    \"BertModel\"\n",
      "  ],\n",
      "  \"attention_probs_dropout_prob\": 0.1,\n",
      "  \"classifier_dropout\": null,\n",
      "  \"gradient_checkpointing\": false,\n",
      "  \"hidden_act\": \"gelu\",\n",
      "  \"hidden_dropout_prob\": 0.1,\n",
      "  \"hidden_size\": 768,\n",
      "  \"id2label\": {\n",
      "    \"0\": \"LABEL_0\"\n",
      "  },\n",
      "  \"initializer_range\": 0.02,\n",
      "  \"intermediate_size\": 3072,\n",
      "  \"label2id\": {\n",
      "    \"LABEL_0\": 0\n",
      "  },\n",
      "  \"layer_norm_eps\": 1e-12,\n",
      "  \"max_position_embeddings\": 512,\n",
      "  \"model_type\": \"bert\",\n",
      "  \"num_attention_heads\": 12,\n",
      "  \"num_hidden_layers\": 12,\n",
      "  \"pad_token_id\": 0,\n",
      "  \"position_embedding_type\": \"absolute\",\n",
      "  \"torch_dtype\": \"float32\",\n",
      "  \"transformers_version\": \"4.51.1\",\n",
      "  \"type_vocab_size\": 2,\n",
      "  \"use_cache\": true,\n",
      "  \"vocab_size\": 30522\n",
      "}\n",
      "\n"
     ]
    },
    {
     "data": {
      "application/vnd.jupyter.widget-view+json": {
       "model_id": "7b1f8cc19e3146429d32b93085b5861d",
       "version_major": 2,
       "version_minor": 0
      },
      "text/plain": [
       "model.safetensors:   0%|          | 0.00/438M [00:00<?, ?B/s]"
      ]
     },
     "metadata": {},
     "output_type": "display_data"
    },
    {
     "name": "stderr",
     "output_type": "stream",
     "text": [
      "loading weights file model.safetensors from cache at /n/home04/rrinberg/.cache/huggingface/hub/models--BAAI--bge-base-en/snapshots/b737bf5dcc6ee8bdc530531266b4804a5d77b5d8/model.safetensors\n",
      "All model checkpoint weights were used when initializing BertModel.\n",
      "\n",
      "All the weights of BertModel were initialized from the model checkpoint at BAAI/bge-base-en.\n",
      "If your task is similar to the task the model of the checkpoint was trained on, you can already use BertModel for predictions without further training.\n"
     ]
    },
    {
     "data": {
      "application/vnd.jupyter.widget-view+json": {
       "model_id": "644cb2f1f45d488da7517364a8c6d86f",
       "version_major": 2,
       "version_minor": 0
      },
      "text/plain": [
       "tokenizer_config.json:   0%|          | 0.00/366 [00:00<?, ?B/s]"
      ]
     },
     "metadata": {},
     "output_type": "display_data"
    },
    {
     "data": {
      "application/vnd.jupyter.widget-view+json": {
       "model_id": "53a2a528564b41119fe46171fa1dca2b",
       "version_major": 2,
       "version_minor": 0
      },
      "text/plain": [
       "vocab.txt:   0%|          | 0.00/232k [00:00<?, ?B/s]"
      ]
     },
     "metadata": {},
     "output_type": "display_data"
    },
    {
     "data": {
      "application/vnd.jupyter.widget-view+json": {
       "model_id": "444d2ff1411d4fcbbda37667b62c4113",
       "version_major": 2,
       "version_minor": 0
      },
      "text/plain": [
       "tokenizer.json:   0%|          | 0.00/711k [00:00<?, ?B/s]"
      ]
     },
     "metadata": {},
     "output_type": "display_data"
    },
    {
     "data": {
      "application/vnd.jupyter.widget-view+json": {
       "model_id": "b6194f48ea6a4e27b12967c2de7ab122",
       "version_major": 2,
       "version_minor": 0
      },
      "text/plain": [
       "special_tokens_map.json:   0%|          | 0.00/125 [00:00<?, ?B/s]"
      ]
     },
     "metadata": {},
     "output_type": "display_data"
    },
    {
     "name": "stderr",
     "output_type": "stream",
     "text": [
      "loading file vocab.txt from cache at /n/home04/rrinberg/.cache/huggingface/hub/models--BAAI--bge-base-en/snapshots/b737bf5dcc6ee8bdc530531266b4804a5d77b5d8/vocab.txt\n",
      "loading file tokenizer.json from cache at /n/home04/rrinberg/.cache/huggingface/hub/models--BAAI--bge-base-en/snapshots/b737bf5dcc6ee8bdc530531266b4804a5d77b5d8/tokenizer.json\n",
      "loading file added_tokens.json from cache at None\n",
      "loading file special_tokens_map.json from cache at /n/home04/rrinberg/.cache/huggingface/hub/models--BAAI--bge-base-en/snapshots/b737bf5dcc6ee8bdc530531266b4804a5d77b5d8/special_tokens_map.json\n",
      "loading file tokenizer_config.json from cache at /n/home04/rrinberg/.cache/huggingface/hub/models--BAAI--bge-base-en/snapshots/b737bf5dcc6ee8bdc530531266b4804a5d77b5d8/tokenizer_config.json\n",
      "loading file chat_template.jinja from cache at None\n"
     ]
    },
    {
     "data": {
      "application/vnd.jupyter.widget-view+json": {
       "model_id": "75bf3c76e2984e229097430bcbde4d22",
       "version_major": 2,
       "version_minor": 0
      },
      "text/plain": [
       "config.json:   0%|          | 0.00/190 [00:00<?, ?B/s]"
      ]
     },
     "metadata": {},
     "output_type": "display_data"
    }
   ],
   "source": [
    "\n",
    "from langchain.embeddings import HuggingFaceEmbeddings\n",
    "\n",
    "class PromptedBGE(HuggingFaceEmbeddings):\n",
    "    def embed_documents(self, texts):\n",
    "        return super().embed_documents([\n",
    "            f\"Represent this document for retrieval: {t}\" for t in texts\n",
    "        ])\n",
    "\n",
    "    def embed_query(self, text):\n",
    "        return super().embed_query(f\"Represent this query for retrieval: {text}\")\n",
    "# BAAI_embedding = HuggingFaceEmbeddings(model_name=\"BAAI/bge-large-en\")\n",
    "\n",
    "BAAI_embedding = PromptedBGE(model_name=\"BAAI/bge-base-en\")  # or bge-large-en\n"
   ]
  },
  {
   "cell_type": "code",
   "execution_count": 22,
   "metadata": {},
   "outputs": [
    {
     "name": "stdout",
     "output_type": "stream",
     "text": [
      "loading english df from /n/home04/rrinberg/code/wiki-rag/assets/english_pageviews.csv\n",
      "loaded from /n/home04/rrinberg/code/wiki-rag/assets/english_pageviews.csv\n",
      "loading wiki index from /n/home04/rrinberg/code/wiki-rag/assets/title_to_file_path.pkl\n"
     ]
    },
    {
     "name": "stderr",
     "output_type": "stream",
     "text": [
      "111it [00:00, 547.79it/s]"
     ]
    },
    {
     "name": "stdout",
     "output_type": "stream",
     "text": [
      "len buffer - 10\n"
     ]
    },
    {
     "name": "stderr",
     "output_type": "stream",
     "text": [
      "501it [00:00, 628.82it/s]"
     ]
    },
    {
     "name": "stdout",
     "output_type": "stream",
     "text": [
      "Processed 250 articles so far...\n",
      "Total articles processed: 293\n",
      "entries in vectorstore: 293\n"
     ]
    },
    {
     "name": "stderr",
     "output_type": "stream",
     "text": [
      "\n"
     ]
    }
   ],
   "source": [
    "\n",
    "#embeddings = rag.ModelEmbeddings(model, tokenizer, device)\n",
    "vectorstore = None\n",
    "counts = 0\n",
    "\n",
    "# get the top 1M articles\n",
    "HOMEDIR = Path.home()\n",
    "BASEDIR = HOMEDIR / 'code/wiki-rag'\n",
    "asset_dir = BASEDIR / 'assets'\n",
    "\n",
    "json_dir = data_cache / 'json'\n",
    "\n",
    "output_f = asset_dir / 'english_pageviews.csv'\n",
    "stats_f = asset_dir / 'pageviews-20241201-000000'\n",
    "print(f\"loading english df from {output_f}\")\n",
    "english_df = wikipedia.get_sorted_english_df(output_f, stats_f) # output - where to output, stats_f base\n",
    "\n",
    "title_to_file_path_f_pkl = asset_dir / 'title_to_file_path.pkl'\n",
    "print(f\"loading wiki index from {title_to_file_path_f_pkl}\")\n",
    "\n",
    "title_to_file_path = wikipedia.get_title_to_path_index(json_dir, title_to_file_path_f_pkl)\n",
    "\n",
    "\n",
    "buffer = []\n",
    "batch_size = 10\n",
    "\n",
    "from tqdm import tqdm\n",
    "max_articles = 500\n",
    "\n",
    "\n",
    "for i, row in enumerate(tqdm(english_df.itertuples(index=False))):\n",
    "\n",
    "    #print(f\"Processing article {counts}: {d['title']}\")\n",
    "    if i > int(max_articles):\n",
    "        break\n",
    "\n",
    "    title = row.page_title\n",
    "    clean_title_ = wikipedia.clean_title(title)\n",
    "    data = wikipedia.get_wiki_page(clean_title_, title_to_file_path)\n",
    "    if data is None:\n",
    "        continue\n",
    "    \n",
    "    title = data['title']\n",
    "    url = data['url']\n",
    "    text = data['text']\n",
    "    id_ = data.get('id')\n",
    "    \n",
    "    if len(text) < 100:\n",
    "        continue\n",
    "    \n",
    "    counts +=1\n",
    "\n",
    "    if counts % 250 == 0:\n",
    "        print(f\"Processed {counts} articles so far...\")\n",
    "    \n",
    "    text = text.strip()\n",
    "    # abstract is first 3 par\n",
    "    abstract = \"\\n\".join(text.split(\"\\n\")[:1])\n",
    "    \n",
    "    doc = Document(page_content=abstract, metadata={\"title\": title, \"ind\": i, \"url\": url, \"id\": id_})\n",
    "\n",
    "    #doc = Document(page_content=text, metadata={\"title\": title, \"ind\": i, \"url\": url, \"id\": id_})\n",
    "\n",
    "    buffer.append(doc)\n",
    "\n",
    "    if len(buffer) >= batch_size:\n",
    "        if vectorstore is None:\n",
    "            print(f\"len buffer - {len(buffer)}\")\n",
    "            with torch.no_grad():\n",
    "                #vectorstore = FAISS.from_documents(buffer, embeddings)\n",
    "                vectorstore = FAISS.from_documents(buffer, BAAI_embedding)\n",
    "        else:\n",
    "            vectorstore.add_documents(buffer)\n",
    "        buffer.clear()\n",
    "if vectorstore is None:\n",
    "    print(f\"len buffer - {len(buffer)}\")\n",
    "    with torch.no_grad():\n",
    "        vectorstore = FAISS.from_documents(buffer, embeddings)\n",
    "else:\n",
    "    vectorstore.add_documents(buffer)\n",
    "buffer.clear()\n",
    "\n",
    "# save \n",
    "# print out how many\n",
    "print(f\"Total articles processed: {counts}\")\n",
    "print(f\"entries in vectorstore: {vectorstore.index.ntotal}\")\n",
    "\n",
    "\n"
   ]
  },
  {
   "cell_type": "code",
   "execution_count": 23,
   "metadata": {},
   "outputs": [
    {
     "name": "stdout",
     "output_type": "stream",
     "text": [
      "Smile is a 2022 American supernatural psychological horror film written and directed by Parker Finn, in his feature directorial debut. A follow-up to Parker's short film \"Laura Hasn't Slept\" (2020), it stars Sosie Bacon as a therapist who witnesses the bizarre suicide of a patient, then becomes overwhelmed with increasingly disturbing and daunting visions that lead her to believe she is experiencing something supernatural. It also features Jessie T. Usher, Kyle Gallner, Kal Penn, and Rob Morgan, as well as Caitlin Stasey reprising her role from \"Laura Hasn't Slept\".\n"
     ]
    }
   ],
   "source": [
    "print(abstract)"
   ]
  },
  {
   "cell_type": "code",
   "execution_count": 24,
   "metadata": {},
   "outputs": [
    {
     "name": "stdout",
     "output_type": "stream",
     "text": [
      "{'title': 'Wicked (2024 film)', 'ind': 4, 'url': 'https://en.wikipedia.org/wiki?curid=60455274', 'id': '60455274'}\n",
      "{'title': 'Wicked (musical)', 'ind': 5, 'url': 'https://en.wikipedia.org/wiki?curid=1678965', 'id': '1678965'}\n",
      "{'title': 'Bob Bryar', 'ind': 6, 'url': 'https://en.wikipedia.org/wiki?curid=50782727', 'id': '50782727'}\n",
      "{'title': 'Moana 2', 'ind': 7, 'url': 'https://en.wikipedia.org/wiki?curid=65419058', 'id': '65419058'}\n",
      "{'title': 'Charles Kushner', 'ind': 8, 'url': 'https://en.wikipedia.org/wiki?curid=913005', 'id': '913005'}\n",
      "{'title': 'Gladiator II', 'ind': 9, 'url': 'https://en.wikipedia.org/wiki?curid=72682130', 'id': '72682130'}\n",
      "{'title': 'Sunny Edwards', 'ind': 11, 'url': 'https://en.wikipedia.org/wiki?curid=62371618', 'id': '62371618'}\n",
      "{'title': 'Hailee Steinfeld', 'ind': 12, 'url': 'https://en.wikipedia.org/wiki?curid=26260043', 'id': '26260043'}\n",
      "{'title': 'Cynthia Erivo', 'ind': 13, 'url': 'https://en.wikipedia.org/wiki?curid=48453494', 'id': '48453494'}\n",
      "{'title': 'Ryan Day (American football)', 'ind': 17, 'url': 'https://en.wikipedia.org/wiki?curid=45222644', 'id': '45222644'}\n",
      "{'title': '2024 Irish general election', 'ind': 21, 'url': 'https://en.wikipedia.org/wiki?curid=63266554', 'id': '63266554'}\n",
      "{'title': 'Missing children panic', 'ind': 22, 'url': 'https://en.wikipedia.org/wiki?curid=77214350', 'id': '77214350'}\n",
      "{'title': 'Killing of JonBenét Ramsey', 'ind': 23, 'url': 'https://en.wikipedia.org/wiki?curid=168926', 'id': '168926'}\n",
      "{'title': 'Galal Yafai', 'ind': 24, 'url': 'https://en.wikipedia.org/wiki?curid=50481723', 'id': '50481723'}\n",
      "{'title': 'Wicked (Maguire novel)', 'ind': 25, 'url': 'https://en.wikipedia.org/wiki?curid=1240426', 'id': '1240426'}\n",
      "{'title': 'Gladiator (2000 film)', 'ind': 28, 'url': 'https://en.wikipedia.org/wiki?curid=3616797', 'id': '3616797'}\n",
      "{'title': 'Jonathan Bailey', 'ind': 29, 'url': 'https://en.wikipedia.org/wiki?curid=20502583', 'id': '20502583'}\n",
      "{'title': 'Red One (film)', 'ind': 32, 'url': 'https://en.wikipedia.org/wiki?curid=68070769', 'id': '68070769'}\n",
      "{'title': 'Empress Elisabeth of Austria', 'ind': 33, 'url': 'https://en.wikipedia.org/wiki?curid=153029', 'id': '153029'}\n",
      "{'title': 'Battle of Aleppo (2024)', 'ind': 34, 'url': 'https://en.wikipedia.org/wiki?curid=78477542', 'id': '78477542'}\n",
      "{'title': 'Iron Bowl', 'ind': 36, 'url': 'https://en.wikipedia.org/wiki?curid=638396', 'id': '638396'}\n",
      "{'title': 'Gus Malzahn', 'ind': 37, 'url': 'https://en.wikipedia.org/wiki?curid=9033269', 'id': '9033269'}\n",
      "{'title': 'Cam Ward (American football)', 'ind': 38, 'url': 'https://en.wikipedia.org/wiki?curid=69475294', 'id': '69475294'}\n",
      "{'title': 'Naomi (wrestler)', 'ind': 41, 'url': 'https://en.wikipedia.org/wiki?curid=32747990', 'id': '32747990'}\n",
      "{'title': 'Lindsay Lohan', 'ind': 42, 'url': 'https://en.wikipedia.org/wiki?curid=8490390', 'id': '8490390'}\n",
      "{'title': 'Raindrop cake', 'ind': 43, 'url': 'https://en.wikipedia.org/wiki?curid=58169300', 'id': '58169300'}\n",
      "{'title': 'John Reardon', 'ind': 45, 'url': 'https://en.wikipedia.org/wiki?curid=9872537', 'id': '9872537'}\n",
      "{'title': 'Apple Network Server', 'ind': 47, 'url': 'https://en.wikipedia.org/wiki?curid=3526866', 'id': '3526866'}\n",
      "{'title': 'Kenny Dillingham', 'ind': 49, 'url': 'https://en.wikipedia.org/wiki?curid=64227686', 'id': '64227686'}\n",
      "{'title': 'Kristin Chenoweth', 'ind': 51, 'url': 'https://en.wikipedia.org/wiki?curid=1115791', 'id': '1115791'}\n",
      "{'title': 'Ethan Slater', 'ind': 52, 'url': 'https://en.wikipedia.org/wiki?curid=56363399', 'id': '56363399'}\n",
      "{'title': 'Kyle McCord', 'ind': 53, 'url': 'https://en.wikipedia.org/wiki?curid=71002478', 'id': '71002478'}\n",
      "{'title': 'Fran Brown', 'ind': 54, 'url': 'https://en.wikipedia.org/wiki?curid=59441200', 'id': '59441200'}\n",
      "{'title': 'Conclave (film)', 'ind': 55, 'url': 'https://en.wikipedia.org/wiki?curid=70756479', 'id': '70756479'}\n",
      "{'title': 'Xavier Restrepo', 'ind': 56, 'url': 'https://en.wikipedia.org/wiki?curid=75058478', 'id': '75058478'}\n",
      "{'title': 'Meghan Ory', 'ind': 57, 'url': 'https://en.wikipedia.org/wiki?curid=4387104', 'id': '4387104'}\n",
      "{'title': 'Ansel Adams', 'ind': 60, 'url': 'https://en.wikipedia.org/wiki?curid=84317', 'id': '84317'}\n",
      "{'title': 'Josh Brolin', 'ind': 61, 'url': 'https://en.wikipedia.org/wiki?curid=909444', 'id': '909444'}\n",
      "{'title': 'Aleppo', 'ind': 63, 'url': 'https://en.wikipedia.org/wiki?curid=159244', 'id': '159244'}\n",
      "{'title': 'Silurian hypothesis', 'ind': 64, 'url': 'https://en.wikipedia.org/wiki?curid=57174311', 'id': '57174311'}\n",
      "{'title': 'Los Angeles Memorial Coliseum', 'ind': 65, 'url': 'https://en.wikipedia.org/wiki?curid=637441', 'id': '637441'}\n",
      "{'title': 'JMA Wireless Dome', 'ind': 66, 'url': 'https://en.wikipedia.org/wiki?curid=746715', 'id': '746715'}\n",
      "{'title': 'Kash Patel', 'ind': 69, 'url': 'https://en.wikipedia.org/wiki?curid=62202727', 'id': '62202727'}\n",
      "{'title': 'Marcus Freeman', 'ind': 70, 'url': 'https://en.wikipedia.org/wiki?curid=20204408', 'id': '20204408'}\n",
      "{'title': 'Syria', 'ind': 71, 'url': 'https://en.wikipedia.org/wiki?curid=7515849', 'id': '7515849'}\n",
      "{'title': 'Lena Waithe', 'ind': 72, 'url': 'https://en.wikipedia.org/wiki?curid=48683289', 'id': '48683289'}\n",
      "{'title': 'The Day of the Jackal (TV series)', 'ind': 73, 'url': 'https://en.wikipedia.org/wiki?curid=73601059', 'id': '73601059'}\n",
      "{'title': 'Chai (software)', 'ind': 74, 'url': 'https://en.wikipedia.org/wiki?curid=78366557', 'id': '78366557'}\n",
      "{'title': 'The Madness (TV series)', 'ind': 75, 'url': 'https://en.wikipedia.org/wiki?curid=77748930', 'id': '77748930'}\n",
      "{'title': 'Syrian Salvation Government', 'ind': 76, 'url': 'https://en.wikipedia.org/wiki?curid=55703739', 'id': '55703739'}\n",
      "{'title': 'Elevation (film)', 'ind': 77, 'url': 'https://en.wikipedia.org/wiki?curid=73354369', 'id': '73354369'}\n",
      "{'title': 'Idina Menzel', 'ind': 80, 'url': 'https://en.wikipedia.org/wiki?curid=794688', 'id': '794688'}\n",
      "{'title': 'Nia Jax', 'ind': 82, 'url': 'https://en.wikipedia.org/wiki?curid=47480166', 'id': '47480166'}\n",
      "{'title': 'Independent Ireland', 'ind': 83, 'url': 'https://en.wikipedia.org/wiki?curid=75517083', 'id': '75517083'}\n",
      "{'title': 'Gerry Hutch', 'ind': 84, 'url': 'https://en.wikipedia.org/wiki?curid=2562248', 'id': '2562248'}\n",
      "{'title': 'Syrian Democratic Forces', 'ind': 85, 'url': 'https://en.wikipedia.org/wiki?curid=48205248', 'id': '48205248'}\n",
      "{'title': 'Gary Danielson', 'ind': 86, 'url': 'https://en.wikipedia.org/wiki?curid=1995645', 'id': '1995645'}\n",
      "{'title': 'Marissa Bode', 'ind': 87, 'url': 'https://en.wikipedia.org/wiki?curid=78172595', 'id': '78172595'}\n",
      "{'title': 'Lucky Baskhar', 'ind': 89, 'url': 'https://en.wikipedia.org/wiki?curid=76595549', 'id': '76595549'}\n",
      "{'title': 'Kevin Schade', 'ind': 90, 'url': 'https://en.wikipedia.org/wiki?curid=68470733', 'id': '68470733'}\n",
      "{'title': 'Jayden Maiava', 'ind': 91, 'url': 'https://en.wikipedia.org/wiki?curid=75432315', 'id': '75432315'}\n",
      "{'title': 'Smile 2', 'ind': 92, 'url': 'https://en.wikipedia.org/wiki?curid=74885356', 'id': '74885356'}\n",
      "{'title': 'When the Phone Rings', 'ind': 94, 'url': 'https://en.wikipedia.org/wiki?curid=77750446', 'id': '77750446'}\n",
      "{'title': 'Jared Kushner', 'ind': 96, 'url': 'https://en.wikipedia.org/wiki?curid=6191053', 'id': '6191053'}\n",
      "{'title': 'Silvia Pinal', 'ind': 97, 'url': 'https://en.wikipedia.org/wiki?curid=1277952', 'id': '1277952'}\n",
      "{'title': 'The Substance', 'ind': 98, 'url': 'https://en.wikipedia.org/wiki?curid=70519613', 'id': '70519613'}\n",
      "{'title': 'Notre Dame–USC football rivalry', 'ind': 99, 'url': 'https://en.wikipedia.org/wiki?curid=17135201', 'id': '17135201'}\n",
      "{'title': 'XNXX', 'ind': 101, 'url': 'https://en.wikipedia.org/wiki?curid=62178843', 'id': '62178843'}\n",
      "{'title': 'Paul Mescal', 'ind': 103, 'url': 'https://en.wikipedia.org/wiki?curid=62233457', 'id': '62233457'}\n",
      "{'title': 'Robert F. Kennedy Jr.', 'ind': 104, 'url': 'https://en.wikipedia.org/wiki?curid=522298', 'id': '522298'}\n",
      "{'title': 'Richard Coles', 'ind': 105, 'url': 'https://en.wikipedia.org/wiki?curid=984367', 'id': '984367'}\n",
      "{'title': 'Our Little Secret (film)', 'ind': 106, 'url': 'https://en.wikipedia.org/wiki?curid=75886125', 'id': '75886125'}\n",
      "{'title': 'Moana (2016 film)', 'ind': 110, 'url': 'https://en.wikipedia.org/wiki?curid=44164132', 'id': '44164132'}\n",
      "{'title': 'Tiffany Stratton', 'ind': 111, 'url': 'https://en.wikipedia.org/wiki?curid=73367859', 'id': '73367859'}\n",
      "{'title': 'Earl Holliman', 'ind': 113, 'url': 'https://en.wikipedia.org/wiki?curid=1736289', 'id': '1736289'}\n",
      "{'title': 'Yellowstone (American TV series)', 'ind': 114, 'url': 'https://en.wikipedia.org/wiki?curid=54060698', 'id': '54060698'}\n",
      "{'title': 'Dear Santa (2024 film)', 'ind': 115, 'url': 'https://en.wikipedia.org/wiki?curid=73528370', 'id': '73528370'}\n",
      "{'title': 'Kai Cenat', 'ind': 116, 'url': 'https://en.wikipedia.org/wiki?curid=72139091', 'id': '72139091'}\n",
      "{'title': 'Destiny (streamer)', 'ind': 117, 'url': 'https://en.wikipedia.org/wiki?curid=58917026', 'id': '58917026'}\n",
      "{'title': 'Jeff Beck', 'ind': 120, 'url': 'https://en.wikipedia.org/wiki?curid=105389', 'id': '105389'}\n",
      "{'title': 'Dolours Price', 'ind': 122, 'url': 'https://en.wikipedia.org/wiki?curid=4836017', 'id': '4836017'}\n",
      "{'title': 'The Edge of the World', 'ind': 123, 'url': 'https://en.wikipedia.org/wiki?curid=1690123', 'id': '1690123'}\n",
      "{'title': 'The Agency (2024 TV series)', 'ind': 124, 'url': 'https://en.wikipedia.org/wiki?curid=76772953', 'id': '76772953'}\n",
      "{'title': 'Gary Lineker', 'ind': 125, 'url': 'https://en.wikipedia.org/wiki?curid=12583', 'id': '12583'}\n",
      "{'title': 'Absolution (2024 film)', 'ind': 127, 'url': 'https://en.wikipedia.org/wiki?curid=72544537', 'id': '72544537'}\n",
      "{'title': 'Heretic (film)', 'ind': 128, 'url': 'https://en.wikipedia.org/wiki?curid=74003786', 'id': '74003786'}\n",
      "{'title': '2025 FIFA Club World Cup', 'ind': 130, 'url': 'https://en.wikipedia.org/wiki?curid=72507744', 'id': '72507744'}\n",
      "{'title': 'James Brolin', 'ind': 131, 'url': 'https://en.wikipedia.org/wiki?curid=352514', 'id': '352514'}\n",
      "{'title': 'Riley Leonard', 'ind': 134, 'url': 'https://en.wikipedia.org/wiki?curid=72183874', 'id': '72183874'}\n",
      "{'title': 'Copa Libertadores', 'ind': 135, 'url': 'https://en.wikipedia.org/wiki?curid=299730', 'id': '299730'}\n",
      "{'title': 'Hugh Freeze', 'ind': 137, 'url': 'https://en.wikipedia.org/wiki?curid=30082779', 'id': '30082779'}\n",
      "{'title': 'Jesse Rodriguez (boxer)', 'ind': 138, 'url': 'https://en.wikipedia.org/wiki?curid=69495456', 'id': '69495456'}\n",
      "{'title': 'Operation Dawn of Freedom', 'ind': 141, 'url': 'https://en.wikipedia.org/wiki?curid=78488496', 'id': '78488496'}\n",
      "{'title': 'Jean Purdy', 'ind': 143, 'url': 'https://en.wikipedia.org/wiki?curid=57986310', 'id': '57986310'}\n",
      "{'title': 'Raquel Rodriguez (wrestler)', 'ind': 144, 'url': 'https://en.wikipedia.org/wiki?curid=64374477', 'id': '64374477'}\n",
      "{'title': 'Sam Elliott', 'ind': 145, 'url': 'https://en.wikipedia.org/wiki?curid=2101536', 'id': '2101536'}\n",
      "{'title': 'John Bennett Ramsey', 'ind': 146, 'url': 'https://en.wikipedia.org/wiki?curid=651351', 'id': '651351'}\n",
      "{'title': 'Matt Eberflus', 'ind': 148, 'url': 'https://en.wikipedia.org/wiki?curid=56328184', 'id': '56328184'}\n",
      "{'title': 'A Man on the Inside', 'ind': 151, 'url': 'https://en.wikipedia.org/wiki?curid=77752068', 'id': '77752068'}\n",
      "{'title': 'Emmanuel Forbes', 'ind': 152, 'url': 'https://en.wikipedia.org/wiki?curid=71712375', 'id': '71712375'}\n",
      "{'title': 'Charlie Edwards (boxer)', 'ind': 153, 'url': 'https://en.wikipedia.org/wiki?curid=59465759', 'id': '59465759'}\n",
      "{'title': 'Michael Fassbender', 'ind': 154, 'url': 'https://en.wikipedia.org/wiki?curid=3092836', 'id': '3092836'}\n",
      "{'title': 'Mike Vrabel', 'ind': 155, 'url': 'https://en.wikipedia.org/wiki?curid=1375140', 'id': '1375140'}\n",
      "{'title': 'Caracalla', 'ind': 156, 'url': 'https://en.wikipedia.org/wiki?curid=49907', 'id': '49907'}\n",
      "{'title': 'Mario Cristobal', 'ind': 157, 'url': 'https://en.wikipedia.org/wiki?curid=8521898', 'id': '8521898'}\n",
      "{'title': 'David Jiříček', 'ind': 158, 'url': 'https://en.wikipedia.org/wiki?curid=69608764', 'id': '69608764'}\n",
      "{'title': 'Philippine Airlines Flight 812', 'ind': 161, 'url': 'https://en.wikipedia.org/wiki?curid=5699097', 'id': '5699097'}\n",
      "{'title': 'Wheel-well stowaway', 'ind': 164, 'url': 'https://en.wikipedia.org/wiki?curid=42549389', 'id': '42549389'}\n",
      "{'title': 'Elf (film)', 'ind': 165, 'url': 'https://en.wikipedia.org/wiki?curid=448735', 'id': '448735'}\n",
      "{'title': 'Silo (TV series)', 'ind': 166, 'url': 'https://en.wikipedia.org/wiki?curid=67719936', 'id': '67719936'}\n",
      "{'title': 'Auliʻi Cravalho', 'ind': 167, 'url': 'https://en.wikipedia.org/wiki?curid=50286704', 'id': '50286704'}\n",
      "{'title': 'Rodney Alcala', 'ind': 168, 'url': 'https://en.wikipedia.org/wiki?curid=26528657', 'id': '26528657'}\n",
      "{'title': 'Nutcrackers (film)', 'ind': 170, 'url': 'https://en.wikipedia.org/wiki?curid=75611717', 'id': '75611717'}\n",
      "{'title': 'Tulisa', 'ind': 175, 'url': 'https://en.wikipedia.org/wiki?curid=22731525', 'id': '22731525'}\n",
      "{'title': 'Justin Kluivert', 'ind': 178, 'url': 'https://en.wikipedia.org/wiki?curid=51629787', 'id': '51629787'}\n",
      "{'title': 'Chip Kelly', 'ind': 179, 'url': 'https://en.wikipedia.org/wiki?curid=19366523', 'id': '19366523'}\n",
      "{'title': \"Saint Andrew's Day\", 'ind': 180, 'url': 'https://en.wikipedia.org/wiki?curid=1067315', 'id': '1067315'}\n",
      "{'title': 'Jalen Milroe', 'ind': 183, 'url': 'https://en.wikipedia.org/wiki?curid=71765693', 'id': '71765693'}\n",
      "{'title': '2024 Formula One World Championship', 'ind': 184, 'url': 'https://en.wikipedia.org/wiki?curid=72504121', 'id': '72504121'}\n",
      "{'title': 'NXT Deadline (2024)', 'ind': 186, 'url': 'https://en.wikipedia.org/wiki?curid=78303062', 'id': '78303062'}\n",
      "{'title': 'Syrian National Army', 'ind': 187, 'url': 'https://en.wikipedia.org/wiki?curid=53235629', 'id': '53235629'}\n",
      "{'title': 'Taylor Sheridan', 'ind': 188, 'url': 'https://en.wikipedia.org/wiki?curid=50995397', 'id': '50995397'}\n",
      "{'title': 'Oti Mabuse', 'ind': 191, 'url': 'https://en.wikipedia.org/wiki?curid=48300733', 'id': '48300733'}\n",
      "{'title': 'Jon M. Chu', 'ind': 193, 'url': 'https://en.wikipedia.org/wiki?curid=22946725', 'id': '22946725'}\n",
      "{'title': 'List of WWE pay-per-view and livestreaming supercards', 'ind': 194, 'url': 'https://en.wikipedia.org/wiki?curid=47146440', 'id': '47146440'}\n",
      "{'title': 'Carol Nolan', 'ind': 198, 'url': 'https://en.wikipedia.org/wiki?curid=49584898', 'id': '49584898'}\n",
      "{'title': 'Chappell Roan', 'ind': 199, 'url': 'https://en.wikipedia.org/wiki?curid=69412590', 'id': '69412590'}\n",
      "{'title': '2024 Icelandic parliamentary election', 'ind': 200, 'url': 'https://en.wikipedia.org/wiki?curid=66215690', 'id': '66215690'}\n",
      "{'title': 'Michael Lowry (politician)', 'ind': 201, 'url': 'https://en.wikipedia.org/wiki?curid=477158', 'id': '477158'}\n",
      "{'title': 'From (TV series)', 'ind': 202, 'url': 'https://en.wikipedia.org/wiki?curid=67380113', 'id': '67380113'}\n",
      "{'title': 'Geta (emperor)', 'ind': 204, 'url': 'https://en.wikipedia.org/wiki?curid=204955', 'id': '204955'}\n",
      "{'title': 'Cross (American TV series)', 'ind': 205, 'url': 'https://en.wikipedia.org/wiki?curid=77585635', 'id': '77585635'}\n",
      "{'title': 'Amanda Lear', 'ind': 206, 'url': 'https://en.wikipedia.org/wiki?curid=1557996', 'id': '1557996'}\n",
      "{'title': 'Nayib Bukele', 'ind': 207, 'url': 'https://en.wikipedia.org/wiki?curid=46452145', 'id': '46452145'}\n",
      "{'title': 'Bayley (wrestler)', 'ind': 208, 'url': 'https://en.wikipedia.org/wiki?curid=39033964', 'id': '39033964'}\n",
      "{'title': 'Chris Wood (footballer, born 1991)', 'ind': 209, 'url': 'https://en.wikipedia.org/wiki?curid=22373864', 'id': '22373864'}\n",
      "{'title': 'GNX (album)', 'ind': 211, 'url': 'https://en.wikipedia.org/wiki?curid=78373166', 'id': '78373166'}\n",
      "{'title': 'Twisters (film)', 'ind': 214, 'url': 'https://en.wikipedia.org/wiki?curid=72034602', 'id': '72034602'}\n",
      "{'title': 'Connie Nielsen', 'ind': 216, 'url': 'https://en.wikipedia.org/wiki?curid=1360268', 'id': '1360268'}\n",
      "{'title': 'Glinda', 'ind': 217, 'url': 'https://en.wikipedia.org/wiki?curid=391154', 'id': '391154'}\n",
      "{'title': 'Fianna Fáil', 'ind': 218, 'url': 'https://en.wikipedia.org/wiki?curid=11536', 'id': '11536'}\n",
      "{'title': 'Rhea Ripley', 'ind': 219, 'url': 'https://en.wikipedia.org/wiki?curid=58281396', 'id': '58281396'}\n",
      "{'title': 'Cheryl Hines', 'ind': 220, 'url': 'https://en.wikipedia.org/wiki?curid=1009768', 'id': '1009768'}\n",
      "{'title': 'The Penguin (TV series)', 'ind': 221, 'url': 'https://en.wikipedia.org/wiki?curid=68724660', 'id': '68724660'}\n",
      "{'title': 'Brydon Carse', 'ind': 224, 'url': 'https://en.wikipedia.org/wiki?curid=50202364', 'id': '50202364'}\n",
      "{'title': 'Kat Dennings', 'ind': 225, 'url': 'https://en.wikipedia.org/wiki?curid=3798345', 'id': '3798345'}\n",
      "{'title': 'Strictly Come Dancing series 22', 'ind': 227, 'url': 'https://en.wikipedia.org/wiki?curid=77313629', 'id': '77313629'}\n",
      "{'title': 'Gerard Way', 'ind': 229, 'url': 'https://en.wikipedia.org/wiki?curid=13060731', 'id': '13060731'}\n",
      "{'title': 'Lyle and Erik Menendez', 'ind': 230, 'url': 'https://en.wikipedia.org/wiki?curid=663704', 'id': '663704'}\n",
      "{'title': \"I'm a Celebrity...Get Me Out of Here! (British TV series)\", 'ind': 231, 'url': 'https://en.wikipedia.org/wiki?curid=14345690', 'id': '14345690'}\n",
      "{'title': 'Louise Brown', 'ind': 232, 'url': 'https://en.wikipedia.org/wiki?curid=353339', 'id': '353339'}\n",
      "{'title': 'Commodus', 'ind': 235, 'url': 'https://en.wikipedia.org/wiki?curid=44324', 'id': '44324'}\n",
      "{'title': 'Hannah Waddingham', 'ind': 236, 'url': 'https://en.wikipedia.org/wiki?curid=21951847', 'id': '21951847'}\n",
      "{'title': 'Arizona–Arizona State football rivalry', 'ind': 237, 'url': 'https://en.wikipedia.org/wiki?curid=1526622', 'id': '1526622'}\n",
      "{'title': 'Liv Morgan', 'ind': 241, 'url': 'https://en.wikipedia.org/wiki?curid=47451203', 'id': '47451203'}\n",
      "{'title': 'Nick Saban', 'ind': 242, 'url': 'https://en.wikipedia.org/wiki?curid=618468', 'id': '618468'}\n",
      "{'title': 'Sean Combs', 'ind': 243, 'url': 'https://en.wikipedia.org/wiki?curid=152447', 'id': '152447'}\n",
      "{'title': 'Gus Johnson (sportscaster)', 'ind': 244, 'url': 'https://en.wikipedia.org/wiki?curid=2475738', 'id': '2475738'}\n",
      "{'title': 'The Empress (TV series)', 'ind': 245, 'url': 'https://en.wikipedia.org/wiki?curid=71846839', 'id': '71846839'}\n",
      "{'title': 'Gregg Wallace', 'ind': 247, 'url': 'https://en.wikipedia.org/wiki?curid=5657867', 'id': '5657867'}\n",
      "{'title': 'Joshua Kushner', 'ind': 249, 'url': 'https://en.wikipedia.org/wiki?curid=29166694', 'id': '29166694'}\n",
      "{'title': '2024 Copa Libertadores', 'ind': 254, 'url': 'https://en.wikipedia.org/wiki?curid=73327472', 'id': '73327472'}\n",
      "{'title': 'Rosé (singer)', 'ind': 255, 'url': 'https://en.wikipedia.org/wiki?curid=58509537', 'id': '58509537'}\n",
      "{'title': 'Mary Steenburgen', 'ind': 256, 'url': 'https://en.wikipedia.org/wiki?curid=155915', 'id': '155915'}\n",
      "{'title': 'Jeff Goldblum', 'ind': 257, 'url': 'https://en.wikipedia.org/wiki?curid=21132373', 'id': '21132373'}\n",
      "{'title': 'Elphaba', 'ind': 258, 'url': 'https://en.wikipedia.org/wiki?curid=1240442', 'id': '1240442'}\n",
      "{'title': 'Mack Brown', 'ind': 260, 'url': 'https://en.wikipedia.org/wiki?curid=1806743', 'id': '1806743'}\n",
      "{'title': 'Landman (TV series)', 'ind': 262, 'url': 'https://en.wikipedia.org/wiki?curid=68329850', 'id': '68329850'}\n",
      "{'title': 'Macrinus', 'ind': 263, 'url': 'https://en.wikipedia.org/wiki?curid=20633', 'id': '20633'}\n",
      "{'title': 'The Wild Robot', 'ind': 264, 'url': 'https://en.wikipedia.org/wiki?curid=74933200', 'id': '74933200'}\n",
      "{'title': 'Krampus', 'ind': 265, 'url': 'https://en.wikipedia.org/wiki?curid=38166006', 'id': '38166006'}\n",
      "{'title': 'James Caan', 'ind': 266, 'url': 'https://en.wikipedia.org/wiki?curid=411085', 'id': '411085'}\n",
      "{'title': 'Sherrone Moore', 'ind': 267, 'url': 'https://en.wikipedia.org/wiki?curid=59626368', 'id': '59626368'}\n",
      "{'title': 'World Chess Championship 2024', 'ind': 268, 'url': 'https://en.wikipedia.org/wiki?curid=73686349', 'id': '73686349'}\n",
      "{'title': 'Neatsville, Kentucky', 'ind': 269, 'url': 'https://en.wikipedia.org/wiki?curid=20147376', 'id': '20147376'}\n",
      "{'title': 'Anne Burrell', 'ind': 271, 'url': 'https://en.wikipedia.org/wiki?curid=2624083', 'id': '2624083'}\n",
      "{'title': 'Deion Sanders', 'ind': 274, 'url': 'https://en.wikipedia.org/wiki?curid=901141', 'id': '901141'}\n",
      "{'title': 'Lacey Chabert', 'ind': 277, 'url': 'https://en.wikipedia.org/wiki?curid=512006', 'id': '512006'}\n",
      "{'title': 'List of Yellowstone episodes', 'ind': 278, 'url': 'https://en.wikipedia.org/wiki?curid=69833726', 'id': '69833726'}\n",
      "{'title': 'Kal Yafai', 'ind': 279, 'url': 'https://en.wikipedia.org/wiki?curid=14502992', 'id': '14502992'}\n",
      "{'title': 'Ian Harding', 'ind': 280, 'url': 'https://en.wikipedia.org/wiki?curid=27722420', 'id': '27722420'}\n",
      "{'title': 'January 1908 Irish representative peer election', 'ind': 284, 'url': 'https://en.wikipedia.org/wiki?curid=77432159', 'id': '77432159'}\n",
      "{'title': 'List of James Bond films', 'ind': 288, 'url': 'https://en.wikipedia.org/wiki?curid=33190861', 'id': '33190861'}\n",
      "{'title': 'Blake Snell', 'ind': 289, 'url': 'https://en.wikipedia.org/wiki?curid=44219120', 'id': '44219120'}\n",
      "{'title': \"I'm a Celebrity...Get Me Out of Here! (British TV series) series 24\", 'ind': 292, 'url': 'https://en.wikipedia.org/wiki?curid=78139568', 'id': '78139568'}\n",
      "{'title': 'Armor (film)', 'ind': 293, 'url': 'https://en.wikipedia.org/wiki?curid=75683876', 'id': '75683876'}\n",
      "{'title': 'SMU Mustangs football', 'ind': 294, 'url': 'https://en.wikipedia.org/wiki?curid=14224978', 'id': '14224978'}\n",
      "{'title': 'Xuxa', 'ind': 295, 'url': 'https://en.wikipedia.org/wiki?curid=551126', 'id': '551126'}\n",
      "{'title': 'UFC 310', 'ind': 297, 'url': 'https://en.wikipedia.org/wiki?curid=77591045', 'id': '77591045'}\n",
      "{'title': 'Harshad Mehta', 'ind': 298, 'url': 'https://en.wikipedia.org/wiki?curid=1328340', 'id': '1328340'}\n",
      "{'title': 'Wordle', 'ind': 299, 'url': 'https://en.wikipedia.org/wiki?curid=69644637', 'id': '69644637'}\n",
      "{'title': 'Thanksgiving', 'ind': 301, 'url': 'https://en.wikipedia.org/wiki?curid=8948452', 'id': '8948452'}\n",
      "{'title': 'Wicked Witch of the East', 'ind': 306, 'url': 'https://en.wikipedia.org/wiki?curid=937039', 'id': '937039'}\n",
      "{'title': 'Margaret Qualley', 'ind': 307, 'url': 'https://en.wikipedia.org/wiki?curid=43256079', 'id': '43256079'}\n",
      "{'title': 'Ernie Davis', 'ind': 308, 'url': 'https://en.wikipedia.org/wiki?curid=2778487', 'id': '2778487'}\n",
      "{'title': 'Mount Takahe', 'ind': 309, 'url': 'https://en.wikipedia.org/wiki?curid=1364505', 'id': '1364505'}\n",
      "{'title': 'Marian Price', 'ind': 310, 'url': 'https://en.wikipedia.org/wiki?curid=5623494', 'id': '5623494'}\n",
      "{'title': 'Lincoln Riley', 'ind': 311, 'url': 'https://en.wikipedia.org/wiki?curid=45033253', 'id': '45033253'}\n",
      "{'title': 'The Trunk (TV series)', 'ind': 312, 'url': 'https://en.wikipedia.org/wiki?curid=78241920', 'id': '78241920'}\n",
      "{'title': 'John Cooper (American football)', 'ind': 313, 'url': 'https://en.wikipedia.org/wiki?curid=2821675', 'id': '2821675'}\n",
      "{'title': 'Urban Meyer', 'ind': 314, 'url': 'https://en.wikipedia.org/wiki?curid=1229075', 'id': '1229075'}\n",
      "{'title': 'Syrian Interim Government', 'ind': 315, 'url': 'https://en.wikipedia.org/wiki?curid=39162083', 'id': '39162083'}\n",
      "{'title': 'Eden (2024 film)', 'ind': 316, 'url': 'https://en.wikipedia.org/wiki?curid=73799324', 'id': '73799324'}\n",
      "{'title': 'Gamal Yafai', 'ind': 318, 'url': 'https://en.wikipedia.org/wiki?curid=28638411', 'id': '28638411'}\n",
      "{'title': 'Adolf Eichmann', 'ind': 320, 'url': 'https://en.wikipedia.org/wiki?curid=19596649', 'id': '19596649'}\n",
      "{'title': 'Sikandar Ka Muqaddar', 'ind': 323, 'url': 'https://en.wikipedia.org/wiki?curid=78190876', 'id': '78190876'}\n",
      "{'title': 'Dietrich Bonhoeffer', 'ind': 324, 'url': 'https://en.wikipedia.org/wiki?curid=84199', 'id': '84199'}\n",
      "{'title': 'Clemson–South Carolina rivalry', 'ind': 326, 'url': 'https://en.wikipedia.org/wiki?curid=8612528', 'id': '8612528'}\n",
      "{'title': 'Liza Minnelli', 'ind': 333, 'url': 'https://en.wikipedia.org/wiki?curid=59216', 'id': '59216'}\n",
      "{'title': 'Ali Larter', 'ind': 334, 'url': 'https://en.wikipedia.org/wiki?curid=691715', 'id': '691715'}\n",
      "{'title': 'Richard McCoy Jr.', 'ind': 336, 'url': 'https://en.wikipedia.org/wiki?curid=11049352', 'id': '11049352'}\n",
      "{'title': 'Terrifier 3', 'ind': 337, 'url': 'https://en.wikipedia.org/wiki?curid=72500053', 'id': '72500053'}\n",
      "{'title': 'Maximilian I of Mexico', 'ind': 342, 'url': 'https://en.wikipedia.org/wiki?curid=193687', 'id': '193687'}\n",
      "{'title': 'Patrick Kluivert', 'ind': 344, 'url': 'https://en.wikipedia.org/wiki?curid=615769', 'id': '615769'}\n",
      "{'title': 'Marc Andreessen', 'ind': 345, 'url': 'https://en.wikipedia.org/wiki?curid=331986', 'id': '331986'}\n",
      "{'title': 'Benedetta (film)', 'ind': 346, 'url': 'https://en.wikipedia.org/wiki?curid=58836119', 'id': '58836119'}\n",
      "{'title': 'Spellbound (2024 film)', 'ind': 347, 'url': 'https://en.wikipedia.org/wiki?curid=64563832', 'id': '64563832'}\n",
      "{'title': 'The Grinch (film)', 'ind': 348, 'url': 'https://en.wikipedia.org/wiki?curid=50758480', 'id': '50758480'}\n",
      "{'title': 'Britt Robertson', 'ind': 350, 'url': 'https://en.wikipedia.org/wiki?curid=15152144', 'id': '15152144'}\n",
      "{'title': \"National Lampoon's Christmas Vacation\", 'ind': 351, 'url': 'https://en.wikipedia.org/wiki?curid=1125221', 'id': '1125221'}\n",
      "{'title': 'Rescue of Jessica McClure', 'ind': 352, 'url': 'https://en.wikipedia.org/wiki?curid=360984', 'id': '360984'}\n",
      "{'title': 'Ivanka Trump', 'ind': 355, 'url': 'https://en.wikipedia.org/wiki?curid=1861441', 'id': '1861441'}\n",
      "{'title': 'Alex Telles', 'ind': 356, 'url': 'https://en.wikipedia.org/wiki?curid=40730447', 'id': '40730447'}\n",
      "{'title': 'List of Oz books', 'ind': 359, 'url': 'https://en.wikipedia.org/wiki?curid=564196', 'id': '564196'}\n",
      "{'title': 'Limonene', 'ind': 369, 'url': 'https://en.wikipedia.org/wiki?curid=1779163', 'id': '1779163'}\n",
      "{'title': 'Jack Sawyer', 'ind': 370, 'url': 'https://en.wikipedia.org/wiki?curid=66856858', 'id': '66856858'}\n",
      "{'title': 'M.I.A. (rapper)', 'ind': 373, 'url': 'https://en.wikipedia.org/wiki?curid=21487008', 'id': '21487008'}\n",
      "{'title': 'Kelly Reilly', 'ind': 375, 'url': 'https://en.wikipedia.org/wiki?curid=2168313', 'id': '2168313'}\n",
      "{'title': 'Woman of the Hour', 'ind': 376, 'url': 'https://en.wikipedia.org/wiki?curid=72668163', 'id': '72668163'}\n",
      "{'title': 'Coleen Rooney', 'ind': 377, 'url': 'https://en.wikipedia.org/wiki?curid=1914950', 'id': '1914950'}\n",
      "{'title': 'John F. Kennedy', 'ind': 378, 'url': 'https://en.wikipedia.org/wiki?curid=5119376', 'id': '5119376'}\n",
      "{'title': 'Charissa Thompson', 'ind': 379, 'url': 'https://en.wikipedia.org/wiki?curid=20030692', 'id': '20030692'}\n",
      "{'title': 'Margaret Hamilton (actress)', 'ind': 380, 'url': 'https://en.wikipedia.org/wiki?curid=589885', 'id': '589885'}\n",
      "{'title': 'Roy L. Dennis', 'ind': 381, 'url': 'https://en.wikipedia.org/wiki?curid=2182160', 'id': '2182160'}\n",
      "{'title': 'Lex Fridman', 'ind': 382, 'url': 'https://en.wikipedia.org/wiki?curid=69718939', 'id': '69718939'}\n",
      "{'title': 'Mary Millington', 'ind': 383, 'url': 'https://en.wikipedia.org/wiki?curid=1796587', 'id': '1796587'}\n",
      "{'title': 'Ethiopian Airlines Flight 409', 'ind': 384, 'url': 'https://en.wikipedia.org/wiki?curid=25937315', 'id': '25937315'}\n",
      "{'title': 'LaNorris Sellers', 'ind': 387, 'url': 'https://en.wikipedia.org/wiki?curid=75358662', 'id': '75358662'}\n",
      "{'title': 'Glen Powell', 'ind': 389, 'url': 'https://en.wikipedia.org/wiki?curid=27439702', 'id': '27439702'}\n",
      "{'title': 'Kraven the Hunter (film)', 'ind': 390, 'url': 'https://en.wikipedia.org/wiki?curid=58055757', 'id': '58055757'}\n",
      "{'title': 'Thanksgiving (United States)', 'ind': 393, 'url': 'https://en.wikipedia.org/wiki?curid=8304348', 'id': '8304348'}\n",
      "{'title': 'Fred Hechinger', 'ind': 394, 'url': 'https://en.wikipedia.org/wiki?curid=33723971', 'id': '33723971'}\n",
      "{'title': 'Timothée Chalamet', 'ind': 397, 'url': 'https://en.wikipedia.org/wiki?curid=46494361', 'id': '46494361'}\n",
      "{'title': 'Aileen Wuornos', 'ind': 398, 'url': 'https://en.wikipedia.org/wiki?curid=214928', 'id': '214928'}\n",
      "{'title': 'Adriane Galisteu', 'ind': 401, 'url': 'https://en.wikipedia.org/wiki?curid=5358695', 'id': '5358695'}\n",
      "{'title': '2024–25 NCAA football bowl games', 'ind': 403, 'url': 'https://en.wikipedia.org/wiki?curid=76147383', 'id': '76147383'}\n",
      "{'title': 'Thridrangaviti Lighthouse', 'ind': 404, 'url': 'https://en.wikipedia.org/wiki?curid=71318211', 'id': '71318211'}\n",
      "{'title': 'Thomas Frank (football manager)', 'ind': 406, 'url': 'https://en.wikipedia.org/wiki?curid=39637788', 'id': '39637788'}\n",
      "{'title': 'Zoe Saldaña', 'ind': 410, 'url': 'https://en.wikipedia.org/wiki?curid=1713217', 'id': '1713217'}\n",
      "{'title': 'Damascus', 'ind': 411, 'url': 'https://en.wikipedia.org/wiki?curid=8914', 'id': '8914'}\n",
      "{'title': \"Willie O'Dea\", 'ind': 412, 'url': 'https://en.wikipedia.org/wiki?curid=1027661', 'id': '1027661'}\n",
      "{'title': 'Adolf Hitler', 'ind': 416, 'url': 'https://en.wikipedia.org/wiki?curid=2731583', 'id': '2731583'}\n",
      "{'title': 'Murder of Laken Riley', 'ind': 420, 'url': 'https://en.wikipedia.org/wiki?curid=76227828', 'id': '76227828'}\n",
      "{'title': 'Youngtown, Arizona', 'ind': 421, 'url': 'https://en.wikipedia.org/wiki?curid=106667', 'id': '106667'}\n",
      "{'title': 'Rudolf, Crown Prince of Austria', 'ind': 423, 'url': 'https://en.wikipedia.org/wiki?curid=211681', 'id': '211681'}\n",
      "{'title': 'Aldis Hodge', 'ind': 424, 'url': 'https://en.wikipedia.org/wiki?curid=20842081', 'id': '20842081'}\n",
      "{'title': 'Sylvester Stallone', 'ind': 425, 'url': 'https://en.wikipedia.org/wiki?curid=61404', 'id': '61404'}\n",
      "{'title': 'Linda Cardellini', 'ind': 426, 'url': 'https://en.wikipedia.org/wiki?curid=555527', 'id': '555527'}\n",
      "{'title': 'Tyler Warren', 'ind': 427, 'url': 'https://en.wikipedia.org/wiki?curid=74462841', 'id': '74462841'}\n",
      "{'title': 'Kiernan Shipka', 'ind': 428, 'url': 'https://en.wikipedia.org/wiki?curid=26392255', 'id': '26392255'}\n",
      "{'title': 'Max Verstappen', 'ind': 429, 'url': 'https://en.wikipedia.org/wiki?curid=41758713', 'id': '41758713'}\n",
      "{'title': 'Islamic State', 'ind': 434, 'url': 'https://en.wikipedia.org/wiki?curid=9087364', 'id': '9087364'}\n",
      "{'title': 'List of American films of 2024', 'ind': 438, 'url': 'https://en.wikipedia.org/wiki?curid=62777289', 'id': '62777289'}\n",
      "{'title': 'Henneguya zschokkei', 'ind': 444, 'url': 'https://en.wikipedia.org/wiki?curid=10017079', 'id': '10017079'}\n",
      "{'title': 'Spotify Wrapped', 'ind': 445, 'url': 'https://en.wikipedia.org/wiki?curid=69279554', 'id': '69279554'}\n",
      "{'title': 'Talulah Riley', 'ind': 446, 'url': 'https://en.wikipedia.org/wiki?curid=4335905', 'id': '4335905'}\n",
      "{'title': 'Shaboozey', 'ind': 448, 'url': 'https://en.wikipedia.org/wiki?curid=76516956', 'id': '76516956'}\n",
      "{'title': 'Nosferatu (2024 film)', 'ind': 449, 'url': 'https://en.wikipedia.org/wiki?curid=66121254', 'id': '66121254'}\n",
      "{'title': 'Mary Elizabeth Ellis', 'ind': 450, 'url': 'https://en.wikipedia.org/wiki?curid=20700532', 'id': '20700532'}\n",
      "{'title': 'Ludwig Kaiser', 'ind': 451, 'url': 'https://en.wikipedia.org/wiki?curid=54003332', 'id': '54003332'}\n",
      "{'title': \"Richard O'Donoghue\", 'ind': 452, 'url': 'https://en.wikipedia.org/wiki?curid=63078619', 'id': '63078619'}\n",
      "{'title': 'John Laurie', 'ind': 453, 'url': 'https://en.wikipedia.org/wiki?curid=1518902', 'id': '1518902'}\n",
      "{'title': 'Gregory Maguire', 'ind': 457, 'url': 'https://en.wikipedia.org/wiki?curid=1343060', 'id': '1343060'}\n",
      "{'title': 'Mikey Way', 'ind': 459, 'url': 'https://en.wikipedia.org/wiki?curid=1672755', 'id': '1672755'}\n",
      "{'title': 'Stephen Schwartz', 'ind': 461, 'url': 'https://en.wikipedia.org/wiki?curid=466258', 'id': '466258'}\n",
      "{'title': 'Rachel Zegler', 'ind': 462, 'url': 'https://en.wikipedia.org/wiki?curid=61275677', 'id': '61275677'}\n",
      "{'title': 'Ilona Maher', 'ind': 464, 'url': 'https://en.wikipedia.org/wiki?curid=67162609', 'id': '67162609'}\n",
      "{'title': 'Meenakshi Chaudhary', 'ind': 465, 'url': 'https://en.wikipedia.org/wiki?curid=57732146', 'id': '57732146'}\n",
      "{'title': 'Murder of Jean McConville', 'ind': 466, 'url': 'https://en.wikipedia.org/wiki?curid=1623115', 'id': '1623115'}\n",
      "{'title': 'Caleb Williams', 'ind': 468, 'url': 'https://en.wikipedia.org/wiki?curid=68945005', 'id': '68945005'}\n",
      "{'title': 'Ella Purnell', 'ind': 469, 'url': 'https://en.wikipedia.org/wiki?curid=27734919', 'id': '27734919'}\n",
      "{'title': 'List of most-subscribed Twitch channels', 'ind': 470, 'url': 'https://en.wikipedia.org/wiki?curid=76900942', 'id': '76900942'}\n",
      "{'title': 'Aontú', 'ind': 475, 'url': 'https://en.wikipedia.org/wiki?curid=59796218', 'id': '59796218'}\n",
      "{'title': 'Tim Allen', 'ind': 482, 'url': 'https://en.wikipedia.org/wiki?curid=188899', 'id': '188899'}\n",
      "{'title': 'Blitz (2024 film)', 'ind': 484, 'url': 'https://en.wikipedia.org/wiki?curid=72499738', 'id': '72499738'}\n",
      "{'title': 'Project 2025', 'ind': 485, 'url': 'https://en.wikipedia.org/wiki?curid=74699486', 'id': '74699486'}\n",
      "{'title': 'The Polar Express (film)', 'ind': 487, 'url': 'https://en.wikipedia.org/wiki?curid=3701905', 'id': '3701905'}\n",
      "{'title': 'Jimmy Uso', 'ind': 488, 'url': 'https://en.wikipedia.org/wiki?curid=27872539', 'id': '27872539'}\n",
      "{'title': 'Saoirse Ronan', 'ind': 489, 'url': 'https://en.wikipedia.org/wiki?curid=11061022', 'id': '11061022'}\n",
      "{'title': 'College football national championships in NCAA Division I FBS', 'ind': 493, 'url': 'https://en.wikipedia.org/wiki?curid=17278765', 'id': '17278765'}\n",
      "{'title': '2024 UK Championship', 'ind': 495, 'url': 'https://en.wikipedia.org/wiki?curid=76845163', 'id': '76845163'}\n",
      "{'title': 'Clube Atlético Mineiro', 'ind': 498, 'url': 'https://en.wikipedia.org/wiki?curid=187305', 'id': '187305'}\n",
      "{'title': 'Smile (2022 film)', 'ind': 500, 'url': 'https://en.wikipedia.org/wiki?curid=70941136', 'id': '70941136'}\n"
     ]
    }
   ],
   "source": [
    "for doc in vectorstore.docstore._dict.values():\n",
    "    \n",
    "    print(doc.metadata)"
   ]
  },
  {
   "cell_type": "code",
   "execution_count": 27,
   "metadata": {},
   "outputs": [
    {
     "data": {
      "text/plain": [
       "[Document(id='48d43cca-9874-45ce-81c2-00fd9d9f64d1', metadata={'title': 'College football national championships in NCAA Division I FBS', 'ind': 493, 'url': 'https://en.wikipedia.org/wiki?curid=17278765', 'id': '17278765'}, page_content='A national championship in the highest level of college football in the United States, currently the NCAA Division I Football Bowl Subdivision (FBS), is a designation awarded annually by various organizations to their selection of the best college football team. Division I FBS football is the only National Collegiate Athletic Association (NCAA) sport for which the NCAA does not host a yearly championship event. As such, it is sometimes referred to as a \"mythical national championship\".'),\n",
       " Document(id='14a47dee-1b5b-4f0d-a14d-a06f21bb77df', metadata={'title': '2024–25 NCAA football bowl games', 'ind': 403, 'url': 'https://en.wikipedia.org/wiki?curid=76147383', 'id': '76147383'}, page_content='The 2024–25 NCAA football bowl games were a series of college football bowl games in the United States, primarily played to complete the 2024 NCAA Division I FBS football season. Team-competitive bowl games in the Football Bowl Subdivision (FBS) began on December 14, 2024, and concluded with the 2025 College Football Playoff National Championship on January 20, 2025. Several all-star games then followed.'),\n",
       " Document(id='d7b8f19c-0afd-4d80-b8cf-c78a01ca2130', metadata={'title': 'Gary Lineker', 'ind': 125, 'url': 'https://en.wikipedia.org/wiki?curid=12583', 'id': '12583'}, page_content='Gary Winston Lineker ( ; born 30 November 1960) is an English sports broadcaster and former professional footballer who played as a striker. Lineker is the only player to have been the top goalscorer in England with three clubs: Leicester City, Everton and Tottenham Hotspur. He also played for Barcelona in Spain, and won 80 caps for England. His media career began with the BBC, where he has presented the flagship football programme \"Match of the Day\" since the late 1990s, the longest tenure of any \"MOTD\" presenter. Lineker is also the BBC\\'s lead presenter for live football matches, including coverage of international tournaments such as the FIFA World Cup. He has also worked for Al Jazeera Sports, Eredivisie Live, NBC Sports Network, and BT Sport\\'s coverage of the UEFA Champions League.'),\n",
       " Document(id='c00dee32-03ec-4bea-b548-d7d6372db104', metadata={'title': 'Clube Atlético Mineiro', 'ind': 498, 'url': 'https://en.wikipedia.org/wiki?curid=187305', 'id': '187305'}, page_content='The Clube Atlético Mineiro (), commonly known as Atlético Mineiro and colloquially as the Galo (, \"Rooster\"), is a professional association football club in Belo Horizonte, the capital city of the Brazilian state of Minas Gerais. They compete in the Campeonato Brasileiro Série A, the first level of Brazilian football, as well as in the Campeonato Mineiro, the top tier state league of Minas Gerais.'),\n",
       " Document(id='a0e42604-9829-406c-8ad7-b2f491b5919b', metadata={'title': 'Iron Bowl', 'ind': 36, 'url': 'https://en.wikipedia.org/wiki?curid=638396', 'id': '638396'}, page_content='The Alabama–Auburn football rivalry, better known as the Iron Bowl, is an American college football rivalry game between the University of Alabama Crimson Tide and the Auburn University Tigers, both charter members of the Southeastern Conference (SEC) and both teams are located in the state of Alabama. The series is considered one of the most important football rivalries in American sports. The rivalry, which started in 1893 and has been renewed annually since 1948, was played for many years at Legion Field in Birmingham, Alabama. In the early 20th Century, Birmingham was the leading industrial city of the South, rivaling Pittsburgh, Pennsylvania, in the production of pig iron, coke, coal and the manufacture of steel. Thus, the term \"Iron Bowl\" came to represent the rivalry. Auburn Coach Ralph \"Shug\" Jordan is credited with actually coining it—when asked by reporters in 1964 how he would deal with the disappointment of not taking his team to a bowl game, he responded, \"We\\'ve got our bowl game. We have it every year. It\\'s the Iron Bowl in Birmingham.\"'),\n",
       " Document(id='128aa5f7-785b-436f-8f9e-33bd74fa9c19', metadata={'title': 'SMU Mustangs football', 'ind': 294, 'url': 'https://en.wikipedia.org/wiki?curid=14224978', 'id': '14224978'}, page_content='The SMU Mustangs football team is a college football team representing Southern Methodist University (SMU) in University Park, Dallas County, Texas. The Mustangs compete in the NCAA Football Bowl Subdivision (FBS) as a member of the Atlantic Coast Conference (ACC). SMU joined the ACC in July 2024 after eleven years as a member of the American Athletic Conference (AAC).'),\n",
       " Document(id='4e730d57-328d-4acf-8d5a-7e69a648d1ce', metadata={'title': '2025 FIFA Club World Cup', 'ind': 130, 'url': 'https://en.wikipedia.org/wiki?curid=72507744', 'id': '72507744'}, page_content='The 2025 FIFA Club World Cup, also marketed as FIFA Club World Cup 25, is the planned 21st edition of the FIFA Club World Cup, an international club soccer competition organized by FIFA. The tournament is scheduled to be played in the United States from June 14 to July 13, 2025. It is planned to be the first under an expanded format with 32 teams, including the winners of the four previous continental championships.'),\n",
       " Document(id='ad039de3-b501-4667-aff2-c8c142b50a76', metadata={'title': 'Nick Saban', 'ind': 242, 'url': 'https://en.wikipedia.org/wiki?curid=618468', 'id': '618468'}, page_content='Nicholas Lou Saban Jr. ( ; born October 31, 1951) is an American sportscaster and former professional and college football coach. He serves as an analyst for ESPN\\'s \"College GameDay\", a television program covering college football. He is widely considered to be one of the greatest football coaches of all time. Saban served as head coach of the National Football League (NFL)\\'s Miami Dolphins and at four universities: the University of Toledo, Michigan State University, Louisiana State University (LSU), and most famously the University of Alabama, where he last coached from 2007 to 2023 and led the team to six national championships in nine championship appearances during that period.'),\n",
       " Document(id='72acc726-b367-4e1c-a946-98815b355092', metadata={'title': 'Arizona–Arizona State football rivalry', 'ind': 237, 'url': 'https://en.wikipedia.org/wiki?curid=1526622', 'id': '1526622'}, page_content='The Arizona–Arizona State football rivalry (also known as the Duel in the Desert) is a college football rivalry between the University of Arizona Wildcats (UA) and the Arizona State University Sun Devils (ASU).'),\n",
       " Document(id='db027518-692c-4b18-95eb-9916ec9b48ad', metadata={'title': 'Copa Libertadores', 'ind': 135, 'url': 'https://en.wikipedia.org/wiki?curid=299730', 'id': '299730'}, page_content='The CONMEBOL Libertadores, also known as Copa Libertadores de América (), is an annual continental club football competition organized by CONMEBOL since 1960. It is the highest level of competition in South American club football. The tournament is named after the \"Libertadores\" (Spanish and Portuguese for \"liberators\"), the leaders of the Latin American wars of independence, so a literal translation of its former name into English is \"Liberators of America Cup\".')]"
      ]
     },
     "execution_count": 27,
     "metadata": {},
     "output_type": "execute_result"
    }
   ],
   "source": [
    "resp = vectorstore.search(\"football\", k=10, search_type=\"similarity\")\n",
    "resp \n",
    "#num_elements = \n",
    "#vectorstore.index.ntotal\n"
   ]
  },
  {
   "cell_type": "code",
   "execution_count": 6,
   "metadata": {},
   "outputs": [
    {
     "data": {
      "text/plain": [
       "{'title': 'A'}"
      ]
     },
     "execution_count": 6,
     "metadata": {},
     "output_type": "execute_result"
    }
   ],
   "source": [
    "[a for a in dir(resp[0]) if \"__\" not in a]\n",
    "resp[0].metadata"
   ]
  },
  {
   "cell_type": "code",
   "execution_count": 8,
   "metadata": {},
   "outputs": [],
   "source": [
    "\n",
    "wiki_generator = wikipedia.wikipedia_abstract_generator(data_cache)\n",
    "\n",
    "#for _ in range(3):\n",
    "#    print(next(wiki_generator))"
   ]
  },
  {
   "cell_type": "markdown",
   "metadata": {},
   "source": []
  }
 ],
 "metadata": {
  "kernelspec": {
   "display_name": "Python 3",
   "language": "python",
   "name": "python3"
  },
  "language_info": {
   "codemirror_mode": {
    "name": "ipython",
    "version": 3
   },
   "file_extension": ".py",
   "mimetype": "text/x-python",
   "name": "python",
   "nbconvert_exporter": "python",
   "pygments_lexer": "ipython3",
   "version": "3.10.13"
  }
 },
 "nbformat": 4,
 "nbformat_minor": 2
}
